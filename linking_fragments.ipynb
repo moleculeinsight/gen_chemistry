{
 "cells": [
  {
   "cell_type": "code",
   "execution_count": 60,
   "metadata": {},
   "outputs": [],
   "source": [
    "import py3Dmol\n",
    "from ipywidgets import interact, interactive, fixed # For interactive display of conformers\n",
    "from espsim import EmbedAlignConstrainedScore, EmbedAlignScore, ConstrainedEmbedMultipleConfs, GetEspSim, GetShapeSim\n",
    "from rdkit import Chem\n",
    "from rdkit.Chem import AllChem\n",
    "from rdkit.Chem import Draw\n",
    "from rdkit.Chem import rdMolAlign\n",
    "from rdkit.Chem import rdMolDescriptors\n",
    "from Bio import PDB\n",
    "from rdkit.Chem.Draw import IPythonConsole\n",
    "from copy import deepcopy\n",
    "import os\n",
    "\n",
    "os.environ[\"TOKENIZERS_PARALLELISM\"] = \"false\"\n",
    "\n",
    "\n",
    "import safe as sf\n",
    "import datamol as dm"
   ]
  },
  {
   "cell_type": "code",
   "execution_count": 16,
   "metadata": {},
   "outputs": [],
   "source": [
    "from collections import defaultdict"
   ]
  },
  {
   "cell_type": "code",
   "execution_count": 7,
   "metadata": {},
   "outputs": [],
   "source": [
    "import numpy as np"
   ]
  },
  {
   "cell_type": "code",
   "execution_count": 2,
   "metadata": {},
   "outputs": [
    {
     "data": {
      "image/svg+xml": [
       "<svg xmlns=\"http://www.w3.org/2000/svg\" xmlns:rdkit=\"http://www.rdkit.org/xml\" xmlns:xlink=\"http://www.w3.org/1999/xlink\" version=\"1.1\" baseProfile=\"full\" xml:space=\"preserve\" width=\"600px\" height=\"300px\" viewBox=\"0 0 600 300\">\n",
       "<!-- END OF HEADER -->\n",
       "<rect style=\"opacity:1.0;fill:#FFFFFF;stroke:none\" width=\"600.0\" height=\"300.0\" x=\"0.0\" y=\"0.0\"> </rect>\n",
       "<path class=\"bond-0 atom-0 atom-1\" d=\"M 205.2,150.0 L 189.9,150.0\" style=\"fill:none;fill-rule:evenodd;stroke:#191919;stroke-width:2.0px;stroke-linecap:butt;stroke-linejoin:miter;stroke-opacity:1\"/>\n",
       "<path class=\"bond-0 atom-0 atom-1\" d=\"M 189.9,150.0 L 174.5,150.0\" style=\"fill:none;fill-rule:evenodd;stroke:#0000FF;stroke-width:2.0px;stroke-linecap:butt;stroke-linejoin:miter;stroke-opacity:1\"/>\n",
       "<path class=\"bond-1 atom-1 atom-2\" d=\"M 164.8,157.1 L 156.7,171.0\" style=\"fill:none;fill-rule:evenodd;stroke:#0000FF;stroke-width:2.0px;stroke-linecap:butt;stroke-linejoin:miter;stroke-opacity:1\"/>\n",
       "<path class=\"bond-1 atom-1 atom-2\" d=\"M 156.7,171.0 L 148.6,185.0\" style=\"fill:none;fill-rule:evenodd;stroke:#000000;stroke-width:2.0px;stroke-linecap:butt;stroke-linejoin:miter;stroke-opacity:1\"/>\n",
       "<path class=\"bond-2 atom-2 atom-3\" d=\"M 148.6,185.0 L 108.3,185.0\" style=\"fill:none;fill-rule:evenodd;stroke:#000000;stroke-width:2.0px;stroke-linecap:butt;stroke-linejoin:miter;stroke-opacity:1\"/>\n",
       "<path class=\"bond-3 atom-3 atom-4\" d=\"M 108.3,185.0 L 88.1,150.0\" style=\"fill:none;fill-rule:evenodd;stroke:#000000;stroke-width:2.0px;stroke-linecap:butt;stroke-linejoin:miter;stroke-opacity:1\"/>\n",
       "<path class=\"bond-4 atom-4 atom-5\" d=\"M 88.1,150.0 L 108.3,115.0\" style=\"fill:none;fill-rule:evenodd;stroke:#000000;stroke-width:2.0px;stroke-linecap:butt;stroke-linejoin:miter;stroke-opacity:1\"/>\n",
       "<path class=\"bond-5 atom-5 atom-6\" d=\"M 108.3,115.0 L 148.6,115.0\" style=\"fill:none;fill-rule:evenodd;stroke:#000000;stroke-width:2.0px;stroke-linecap:butt;stroke-linejoin:miter;stroke-opacity:1\"/>\n",
       "<path class=\"bond-6 atom-6 atom-1\" d=\"M 148.6,115.0 L 156.7,129.0\" style=\"fill:none;fill-rule:evenodd;stroke:#000000;stroke-width:2.0px;stroke-linecap:butt;stroke-linejoin:miter;stroke-opacity:1\"/>\n",
       "<path class=\"bond-6 atom-6 atom-1\" d=\"M 156.7,129.0 L 164.8,142.9\" style=\"fill:none;fill-rule:evenodd;stroke:#0000FF;stroke-width:2.0px;stroke-linecap:butt;stroke-linejoin:miter;stroke-opacity:1\"/>\n",
       "<path d=\"M 149.1,184.3 L 148.6,185.0 L 146.6,185.0\" style=\"fill:none;stroke:#000000;stroke-width:2.0px;stroke-linecap:butt;stroke-linejoin:miter;stroke-opacity:1;\"/>\n",
       "<path d=\"M 110.3,185.0 L 108.3,185.0 L 107.2,183.2\" style=\"fill:none;stroke:#000000;stroke-width:2.0px;stroke-linecap:butt;stroke-linejoin:miter;stroke-opacity:1;\"/>\n",
       "<path d=\"M 89.1,151.7 L 88.1,150.0 L 89.1,148.3\" style=\"fill:none;stroke:#000000;stroke-width:2.0px;stroke-linecap:butt;stroke-linejoin:miter;stroke-opacity:1;\"/>\n",
       "<path d=\"M 107.2,116.8 L 108.3,115.0 L 110.3,115.0\" style=\"fill:none;stroke:#000000;stroke-width:2.0px;stroke-linecap:butt;stroke-linejoin:miter;stroke-opacity:1;\"/>\n",
       "<path d=\"M 146.6,115.0 L 148.6,115.0 L 149.1,115.7\" style=\"fill:none;stroke:#000000;stroke-width:2.0px;stroke-linecap:butt;stroke-linejoin:miter;stroke-opacity:1;\"/>\n",
       "<path class=\"atom-0\" d=\"M 207.1 148.7 L 208.8 147.0 L 206.5 146.6 L 206.9 145.4 L 208.9 146.4 L 208.6 144.2 L 209.8 144.2 L 209.5 146.4 L 211.6 145.5 L 211.9 146.6 L 209.7 147.0 L 211.3 148.7 L 210.3 149.4 L 209.2 147.3 L 208.1 149.4 L 207.1 148.7 \" fill=\"#191919\"/>\n",
       "<path class=\"atom-1\" d=\"M 166.3 144.3 L 170.1 150.3 Q 170.4 150.9, 171.0 152.0 Q 171.6 153.1, 171.7 153.2 L 171.7 144.3 L 173.2 144.3 L 173.2 155.7 L 171.6 155.7 L 167.6 149.1 Q 167.1 148.3, 166.6 147.4 Q 166.1 146.5, 166.0 146.3 L 166.0 155.7 L 164.5 155.7 L 164.5 144.3 L 166.3 144.3 \" fill=\"#0000FF\"/>\n",
       "<path class=\"bond-0 atom-0 atom-1\" d=\"M 328.4,200.2 L 336.0,183.9\" style=\"fill:none;fill-rule:evenodd;stroke:#7F4C19;stroke-width:2.0px;stroke-linecap:butt;stroke-linejoin:miter;stroke-opacity:1\"/>\n",
       "<path class=\"bond-0 atom-0 atom-1\" d=\"M 336.0,183.9 L 343.6,167.7\" style=\"fill:none;fill-rule:evenodd;stroke:#000000;stroke-width:2.0px;stroke-linecap:butt;stroke-linejoin:miter;stroke-opacity:1\"/>\n",
       "<path class=\"bond-1 atom-1 atom-2\" d=\"M 343.6,167.7 L 320.4,134.6\" style=\"fill:none;fill-rule:evenodd;stroke:#000000;stroke-width:2.0px;stroke-linecap:butt;stroke-linejoin:miter;stroke-opacity:1\"/>\n",
       "<path class=\"bond-1 atom-1 atom-2\" d=\"M 346.5,161.3 L 327.4,134.0\" style=\"fill:none;fill-rule:evenodd;stroke:#000000;stroke-width:2.0px;stroke-linecap:butt;stroke-linejoin:miter;stroke-opacity:1\"/>\n",
       "<path class=\"bond-2 atom-2 atom-3\" d=\"M 320.4,134.6 L 337.5,98.0\" style=\"fill:none;fill-rule:evenodd;stroke:#000000;stroke-width:2.0px;stroke-linecap:butt;stroke-linejoin:miter;stroke-opacity:1\"/>\n",
       "<path class=\"bond-3 atom-3 atom-4\" d=\"M 337.5,98.0 L 377.7,94.4\" style=\"fill:none;fill-rule:evenodd;stroke:#000000;stroke-width:2.0px;stroke-linecap:butt;stroke-linejoin:miter;stroke-opacity:1\"/>\n",
       "<path class=\"bond-3 atom-3 atom-4\" d=\"M 341.5,103.7 L 374.8,100.8\" style=\"fill:none;fill-rule:evenodd;stroke:#000000;stroke-width:2.0px;stroke-linecap:butt;stroke-linejoin:miter;stroke-opacity:1\"/>\n",
       "<path class=\"bond-4 atom-4 atom-5\" d=\"M 377.7,94.4 L 400.9,127.5\" style=\"fill:none;fill-rule:evenodd;stroke:#000000;stroke-width:2.0px;stroke-linecap:butt;stroke-linejoin:miter;stroke-opacity:1\"/>\n",
       "<path class=\"bond-5 atom-5 atom-6\" d=\"M 400.9,127.5 L 418.2,126.0\" style=\"fill:none;fill-rule:evenodd;stroke:#000000;stroke-width:2.0px;stroke-linecap:butt;stroke-linejoin:miter;stroke-opacity:1\"/>\n",
       "<path class=\"bond-5 atom-5 atom-6\" d=\"M 418.2,126.0 L 435.5,124.5\" style=\"fill:none;fill-rule:evenodd;stroke:#0000FF;stroke-width:2.0px;stroke-linecap:butt;stroke-linejoin:miter;stroke-opacity:1\"/>\n",
       "<path class=\"bond-6 atom-6 atom-7\" d=\"M 446.1,131.1 L 455.2,144.1\" style=\"fill:none;fill-rule:evenodd;stroke:#0000FF;stroke-width:2.0px;stroke-linecap:butt;stroke-linejoin:miter;stroke-opacity:1\"/>\n",
       "<path class=\"bond-6 atom-6 atom-7\" d=\"M 455.2,144.1 L 464.3,157.1\" style=\"fill:none;fill-rule:evenodd;stroke:#000000;stroke-width:2.0px;stroke-linecap:butt;stroke-linejoin:miter;stroke-opacity:1\"/>\n",
       "<path class=\"bond-7 atom-7 atom-8\" d=\"M 464.3,157.1 L 457.4,171.9\" style=\"fill:none;fill-rule:evenodd;stroke:#000000;stroke-width:2.0px;stroke-linecap:butt;stroke-linejoin:miter;stroke-opacity:1\"/>\n",
       "<path class=\"bond-7 atom-7 atom-8\" d=\"M 457.4,171.9 L 450.5,186.6\" style=\"fill:none;fill-rule:evenodd;stroke:#0000FF;stroke-width:2.0px;stroke-linecap:butt;stroke-linejoin:miter;stroke-opacity:1\"/>\n",
       "<path class=\"bond-7 atom-7 atom-8\" d=\"M 468.3,162.8 L 462.2,176.0\" style=\"fill:none;fill-rule:evenodd;stroke:#000000;stroke-width:2.0px;stroke-linecap:butt;stroke-linejoin:miter;stroke-opacity:1\"/>\n",
       "<path class=\"bond-7 atom-7 atom-8\" d=\"M 462.2,176.0 L 456.0,189.2\" style=\"fill:none;fill-rule:evenodd;stroke:#0000FF;stroke-width:2.0px;stroke-linecap:butt;stroke-linejoin:miter;stroke-opacity:1\"/>\n",
       "<path class=\"bond-8 atom-8 atom-9\" d=\"M 452.2,200.7 L 461.3,213.8\" style=\"fill:none;fill-rule:evenodd;stroke:#0000FF;stroke-width:2.0px;stroke-linecap:butt;stroke-linejoin:miter;stroke-opacity:1\"/>\n",
       "<path class=\"bond-8 atom-8 atom-9\" d=\"M 461.3,213.8 L 470.4,226.8\" style=\"fill:none;fill-rule:evenodd;stroke:#000000;stroke-width:2.0px;stroke-linecap:butt;stroke-linejoin:miter;stroke-opacity:1\"/>\n",
       "<path class=\"bond-9 atom-9 atom-10\" d=\"M 470.4,226.8 L 487.7,225.3\" style=\"fill:none;fill-rule:evenodd;stroke:#000000;stroke-width:2.0px;stroke-linecap:butt;stroke-linejoin:miter;stroke-opacity:1\"/>\n",
       "<path class=\"bond-9 atom-9 atom-10\" d=\"M 487.7,225.3 L 505.0,223.8\" style=\"fill:none;fill-rule:evenodd;stroke:#0000FF;stroke-width:2.0px;stroke-linecap:butt;stroke-linejoin:miter;stroke-opacity:1\"/>\n",
       "<path class=\"bond-9 atom-9 atom-10\" d=\"M 473.4,220.4 L 488.9,219.1\" style=\"fill:none;fill-rule:evenodd;stroke:#000000;stroke-width:2.0px;stroke-linecap:butt;stroke-linejoin:miter;stroke-opacity:1\"/>\n",
       "<path class=\"bond-9 atom-9 atom-10\" d=\"M 488.9,219.1 L 504.4,217.7\" style=\"fill:none;fill-rule:evenodd;stroke:#0000FF;stroke-width:2.0px;stroke-linecap:butt;stroke-linejoin:miter;stroke-opacity:1\"/>\n",
       "<path class=\"bond-10 atom-10 atom-11\" d=\"M 513.9,216.2 L 520.8,201.4\" style=\"fill:none;fill-rule:evenodd;stroke:#0000FF;stroke-width:2.0px;stroke-linecap:butt;stroke-linejoin:miter;stroke-opacity:1\"/>\n",
       "<path class=\"bond-10 atom-10 atom-11\" d=\"M 520.8,201.4 L 527.7,186.7\" style=\"fill:none;fill-rule:evenodd;stroke:#000000;stroke-width:2.0px;stroke-linecap:butt;stroke-linejoin:miter;stroke-opacity:1\"/>\n",
       "<path class=\"bond-11 atom-11 atom-12\" d=\"M 527.7,186.7 L 567.9,183.1\" style=\"fill:none;fill-rule:evenodd;stroke:#000000;stroke-width:2.0px;stroke-linecap:butt;stroke-linejoin:miter;stroke-opacity:1\"/>\n",
       "<path class=\"bond-11 atom-11 atom-12\" d=\"M 530.7,180.3 L 563.9,177.4\" style=\"fill:none;fill-rule:evenodd;stroke:#000000;stroke-width:2.0px;stroke-linecap:butt;stroke-linejoin:miter;stroke-opacity:1\"/>\n",
       "<path class=\"bond-12 atom-12 atom-13\" d=\"M 567.9,183.1 L 585.0,146.5\" style=\"fill:none;fill-rule:evenodd;stroke:#000000;stroke-width:2.0px;stroke-linecap:butt;stroke-linejoin:miter;stroke-opacity:1\"/>\n",
       "<path class=\"bond-13 atom-13 atom-14\" d=\"M 585.0,146.5 L 561.8,113.4\" style=\"fill:none;fill-rule:evenodd;stroke:#000000;stroke-width:2.0px;stroke-linecap:butt;stroke-linejoin:miter;stroke-opacity:1\"/>\n",
       "<path class=\"bond-13 atom-13 atom-14\" d=\"M 578.0,147.1 L 558.9,119.8\" style=\"fill:none;fill-rule:evenodd;stroke:#000000;stroke-width:2.0px;stroke-linecap:butt;stroke-linejoin:miter;stroke-opacity:1\"/>\n",
       "<path class=\"bond-14 atom-14 atom-15\" d=\"M 561.8,113.4 L 570.2,95.5\" style=\"fill:none;fill-rule:evenodd;stroke:#000000;stroke-width:2.0px;stroke-linecap:butt;stroke-linejoin:miter;stroke-opacity:1\"/>\n",
       "<path class=\"bond-14 atom-14 atom-15\" d=\"M 570.2,95.5 L 578.5,77.6\" style=\"fill:none;fill-rule:evenodd;stroke:#191919;stroke-width:2.0px;stroke-linecap:butt;stroke-linejoin:miter;stroke-opacity:1\"/>\n",
       "<path class=\"bond-15 atom-14 atom-16\" d=\"M 561.8,113.4 L 521.6,117.0\" style=\"fill:none;fill-rule:evenodd;stroke:#000000;stroke-width:2.0px;stroke-linecap:butt;stroke-linejoin:miter;stroke-opacity:1\"/>\n",
       "<path class=\"bond-16 atom-16 atom-17\" d=\"M 521.6,117.0 L 504.5,153.6\" style=\"fill:none;fill-rule:evenodd;stroke:#000000;stroke-width:2.0px;stroke-linecap:butt;stroke-linejoin:miter;stroke-opacity:1\"/>\n",
       "<path class=\"bond-16 atom-16 atom-17\" d=\"M 525.6,122.7 L 511.5,153.0\" style=\"fill:none;fill-rule:evenodd;stroke:#000000;stroke-width:2.0px;stroke-linecap:butt;stroke-linejoin:miter;stroke-opacity:1\"/>\n",
       "<path class=\"bond-17 atom-5 atom-18\" d=\"M 400.9,127.5 L 383.8,164.1\" style=\"fill:none;fill-rule:evenodd;stroke:#000000;stroke-width:2.0px;stroke-linecap:butt;stroke-linejoin:miter;stroke-opacity:1\"/>\n",
       "<path class=\"bond-17 atom-5 atom-18\" d=\"M 393.9,128.1 L 379.8,158.4\" style=\"fill:none;fill-rule:evenodd;stroke:#000000;stroke-width:2.0px;stroke-linecap:butt;stroke-linejoin:miter;stroke-opacity:1\"/>\n",
       "<path class=\"bond-18 atom-18 atom-1\" d=\"M 383.8,164.1 L 343.6,167.7\" style=\"fill:none;fill-rule:evenodd;stroke:#000000;stroke-width:2.0px;stroke-linecap:butt;stroke-linejoin:miter;stroke-opacity:1\"/>\n",
       "<path class=\"bond-19 atom-17 atom-7\" d=\"M 504.5,153.6 L 464.3,157.1\" style=\"fill:none;fill-rule:evenodd;stroke:#000000;stroke-width:2.0px;stroke-linecap:butt;stroke-linejoin:miter;stroke-opacity:1\"/>\n",
       "<path class=\"bond-20 atom-17 atom-11\" d=\"M 504.5,153.6 L 527.7,186.7\" style=\"fill:none;fill-rule:evenodd;stroke:#000000;stroke-width:2.0px;stroke-linecap:butt;stroke-linejoin:miter;stroke-opacity:1\"/>\n",
       "<path d=\"M 321.6,136.2 L 320.4,134.6 L 321.3,132.7\" style=\"fill:none;stroke:#000000;stroke-width:2.0px;stroke-linecap:butt;stroke-linejoin:miter;stroke-opacity:1;\"/>\n",
       "<path d=\"M 336.6,99.8 L 337.5,98.0 L 339.5,97.8\" style=\"fill:none;stroke:#000000;stroke-width:2.0px;stroke-linecap:butt;stroke-linejoin:miter;stroke-opacity:1;\"/>\n",
       "<path d=\"M 375.7,94.6 L 377.7,94.4 L 378.9,96.1\" style=\"fill:none;stroke:#000000;stroke-width:2.0px;stroke-linecap:butt;stroke-linejoin:miter;stroke-opacity:1;\"/>\n",
       "<path d=\"M 469.9,226.1 L 470.4,226.8 L 471.3,226.7\" style=\"fill:none;stroke:#000000;stroke-width:2.0px;stroke-linecap:butt;stroke-linejoin:miter;stroke-opacity:1;\"/>\n",
       "<path d=\"M 565.9,183.3 L 567.9,183.1 L 568.8,181.3\" style=\"fill:none;stroke:#000000;stroke-width:2.0px;stroke-linecap:butt;stroke-linejoin:miter;stroke-opacity:1;\"/>\n",
       "<path d=\"M 584.1,148.4 L 585.0,146.5 L 583.8,144.9\" style=\"fill:none;stroke:#000000;stroke-width:2.0px;stroke-linecap:butt;stroke-linejoin:miter;stroke-opacity:1;\"/>\n",
       "<path d=\"M 523.6,116.8 L 521.6,117.0 L 520.7,118.8\" style=\"fill:none;stroke:#000000;stroke-width:2.0px;stroke-linecap:butt;stroke-linejoin:miter;stroke-opacity:1;\"/>\n",
       "<path d=\"M 384.7,162.3 L 383.8,164.1 L 381.8,164.3\" style=\"fill:none;stroke:#000000;stroke-width:2.0px;stroke-linecap:butt;stroke-linejoin:miter;stroke-opacity:1;\"/>\n",
       "<path class=\"atom-0\" d=\"M 320.6 204.0 Q 321.7 204.3, 322.2 205.0 Q 322.8 205.6, 322.8 206.6 Q 322.8 208.2, 321.8 209.1 Q 320.8 210.0, 318.8 210.0 L 315.0 210.0 L 315.0 198.5 L 318.4 198.5 Q 320.3 198.5, 321.3 199.3 Q 322.3 200.1, 322.3 201.6 Q 322.3 203.3, 320.6 204.0 M 316.5 199.8 L 316.5 203.4 L 318.4 203.4 Q 319.5 203.4, 320.1 203.0 Q 320.7 202.5, 320.7 201.6 Q 320.7 199.8, 318.4 199.8 L 316.5 199.8 M 318.8 208.7 Q 320.0 208.7, 320.6 208.2 Q 321.2 207.6, 321.2 206.6 Q 321.2 205.7, 320.5 205.2 Q 319.8 204.7, 318.6 204.7 L 316.5 204.7 L 316.5 208.7 L 318.8 208.7 \" fill=\"#7F4C19\"/>\n",
       "<path class=\"atom-0\" d=\"M 325.4 201.7 L 325.5 202.8 Q 326.4 201.5, 327.8 201.5 Q 328.3 201.5, 328.9 201.7 L 328.7 203.1 Q 328.0 202.9, 327.6 202.9 Q 326.9 202.9, 326.5 203.2 Q 326.0 203.4, 325.7 204.1 L 325.7 210.0 L 324.1 210.0 L 324.1 201.7 L 325.4 201.7 \" fill=\"#7F4C19\"/>\n",
       "<path class=\"atom-6\" d=\"M 438.6 118.3 L 442.3 124.3 Q 442.7 124.9, 443.3 126.0 Q 443.9 127.1, 443.9 127.2 L 443.9 118.3 L 445.5 118.3 L 445.5 129.7 L 443.9 129.7 L 439.9 123.1 Q 439.4 122.3, 438.9 121.4 Q 438.4 120.6, 438.3 120.3 L 438.3 129.7 L 436.8 129.7 L 436.8 118.3 L 438.6 118.3 \" fill=\"#0000FF\"/>\n",
       "<path class=\"atom-6\" d=\"M 447.7 118.3 L 449.2 118.3 L 449.2 123.2 L 455.1 123.2 L 455.1 118.3 L 456.6 118.3 L 456.6 129.7 L 455.1 129.7 L 455.1 124.4 L 449.2 124.4 L 449.2 129.7 L 447.7 129.7 L 447.7 118.3 \" fill=\"#0000FF\"/>\n",
       "<path class=\"atom-8\" d=\"M 444.7 188.0 L 448.4 194.0 Q 448.8 194.6, 449.4 195.7 Q 450.0 196.8, 450.0 196.9 L 450.0 188.0 L 451.6 188.0 L 451.6 199.4 L 450.0 199.4 L 446.0 192.8 Q 445.5 192.0, 445.0 191.1 Q 444.5 190.2, 444.4 190.0 L 444.4 199.4 L 442.9 199.4 L 442.9 188.0 L 444.7 188.0 \" fill=\"#0000FF\"/>\n",
       "<path class=\"atom-10\" d=\"M 508.1 217.5 L 511.9 223.6 Q 512.2 224.2, 512.8 225.3 Q 513.4 226.4, 513.4 226.4 L 513.4 217.5 L 515.0 217.5 L 515.0 229.0 L 513.4 229.0 L 509.4 222.4 Q 508.9 221.6, 508.4 220.7 Q 507.9 219.8, 507.8 219.5 L 507.8 229.0 L 506.3 229.0 L 506.3 217.5 L 508.1 217.5 \" fill=\"#0000FF\"/>\n",
       "<path class=\"atom-15\" d=\"M 576.7 75.6 L 578.4 73.8 L 576.2 73.4 L 576.5 72.2 L 578.6 73.3 L 578.3 71.0 L 579.5 71.0 L 579.2 73.3 L 581.3 72.3 L 581.6 73.4 L 579.3 73.8 L 581.0 75.5 L 580.0 76.3 L 578.9 74.1 L 577.7 76.3 L 576.7 75.6 \" fill=\"#191919\"/>\n",
       "</svg>"
      ],
      "text/plain": [
       "<IPython.core.display.SVG object>"
      ]
     },
     "execution_count": 2,
     "metadata": {},
     "output_type": "execute_result"
    }
   ],
   "source": [
    "fragment1 = \"[*]-N1CCCCC1\"\n",
    "fragment2 = \"Brc1cccc(Nc2ncnc3ccc(-[*])cc23)c1\"\n",
    "\n",
    "linker_generation = [fragment1, fragment2]\n",
    "\n",
    "dm.to_image(linker_generation)"
   ]
  },
  {
   "cell_type": "code",
   "execution_count": 13,
   "metadata": {},
   "outputs": [],
   "source": [
    "def download_pdb(pdb_id):\n",
    "    pdb_list = PDB.PDBList()\n",
    "    filename = pdb_list.retrieve_pdb_file(pdb_id, file_format=\"pdb\", pdir=\".\")\n",
    "    return filename"
   ]
  },
  {
   "cell_type": "code",
   "execution_count": 19,
   "metadata": {},
   "outputs": [],
   "source": [
    "def find_ligands(pdb_file):\n",
    "    parser = PDB.PDBParser()\n",
    "    structure = parser.get_structure('structure', pdb_file)\n",
    "    ligands = defaultdict(lambda: defaultdict(list))\n",
    "\n",
    "    for model in structure:\n",
    "        for chain in model:\n",
    "            chain_id = chain.id\n",
    "            for residue in chain:\n",
    "                if residue.id[0] != ' ':  # Check if it's a heteroatom\n",
    "                    ligands[chain_id][residue.resname].append(residue)\n",
    "    \n",
    "    return ligands"
   ]
  },
  {
   "cell_type": "code",
   "execution_count": 6,
   "metadata": {},
   "outputs": [],
   "source": [
    "def extract_ligand_coords(ligand):\n",
    "    return np.array([atom.coord for atom in ligand])"
   ]
  },
  {
   "cell_type": "code",
   "execution_count": 8,
   "metadata": {},
   "outputs": [],
   "source": [
    "def create_mol_from_coords(coords, mol_string):\n",
    "    mol = Chem.MolFromSmiles(mol_string)\n",
    "    mol = Chem.AddHs(mol)\n",
    "    AllChem.EmbedMolecule(mol, randomSeed=42)\n",
    "    conf = mol.GetConformer()\n",
    "    for i, coord in enumerate(coords):\n",
    "        conf.SetAtomPosition(i, coord)\n",
    "    return mol"
   ]
  },
  {
   "cell_type": "code",
   "execution_count": 11,
   "metadata": {},
   "outputs": [
    {
     "name": "stdout",
     "output_type": "stream",
     "text": [
      "Structure exists: './pdb8df9.ent' \n"
     ]
    }
   ],
   "source": [
    "pdb_id = \"8df9\"\n",
    "pdb_filename = f\"{pdb_id}.pdb\"\n",
    "if not os.path.exists(pdb_filename):\n",
    "    from Bio.PDB import PDBList\n",
    "    pdbl = PDBList()\n",
    "    pdbl.retrieve_pdb_file(pdb_id, pdir='.', file_format='pdb')"
   ]
  },
  {
   "cell_type": "code",
   "execution_count": 20,
   "metadata": {},
   "outputs": [
    {
     "name": "stdout",
     "output_type": "stream",
     "text": [
      "Structure exists: './pdb8df9.ent' \n"
     ]
    },
    {
     "name": "stderr",
     "output_type": "stream",
     "text": [
      "/Users/santosh/Documents/coding/generative_chemistry/.venv/lib/python3.12/site-packages/Bio/PDB/StructureBuilder.py:100: PDBConstructionWarning: WARNING: Chain A is discontinuous at line 16929.\n",
      "  warnings.warn(\n",
      "/Users/santosh/Documents/coding/generative_chemistry/.venv/lib/python3.12/site-packages/Bio/PDB/StructureBuilder.py:100: PDBConstructionWarning: WARNING: Chain B is discontinuous at line 16934.\n",
      "  warnings.warn(\n",
      "/Users/santosh/Documents/coding/generative_chemistry/.venv/lib/python3.12/site-packages/Bio/PDB/StructureBuilder.py:100: PDBConstructionWarning: WARNING: Chain S is discontinuous at line 16941.\n",
      "  warnings.warn(\n",
      "/Users/santosh/Documents/coding/generative_chemistry/.venv/lib/python3.12/site-packages/Bio/PDB/StructureBuilder.py:100: PDBConstructionWarning: WARNING: Chain T is discontinuous at line 16942.\n",
      "  warnings.warn(\n",
      "/Users/santosh/Documents/coding/generative_chemistry/.venv/lib/python3.12/site-packages/Bio/PDB/StructureBuilder.py:100: PDBConstructionWarning: WARNING: Chain A is discontinuous at line 16943.\n",
      "  warnings.warn(\n",
      "/Users/santosh/Documents/coding/generative_chemistry/.venv/lib/python3.12/site-packages/Bio/PDB/StructureBuilder.py:100: PDBConstructionWarning: WARNING: Chain B is discontinuous at line 16954.\n",
      "  warnings.warn(\n"
     ]
    }
   ],
   "source": [
    "pdb_id = \"8DF9\"\n",
    "pdb_file = download_pdb(pdb_id)\n",
    "ligands = find_ligands(pdb_file)"
   ]
  },
  {
   "cell_type": "markdown",
   "metadata": {},
   "source": []
  },
  {
   "cell_type": "code",
   "execution_count": 12,
   "metadata": {},
   "outputs": [
    {
     "data": {
      "text/plain": [
       "'8DF9.pdb'"
      ]
     },
     "execution_count": 12,
     "metadata": {},
     "output_type": "execute_result"
    }
   ],
   "source": [
    "pdb_file"
   ]
  },
  {
   "cell_type": "code",
   "execution_count": 22,
   "metadata": {},
   "outputs": [
    {
     "data": {
      "text/plain": [
       "[<Residue MG het=H_MG resseq=901 icode= >,\n",
       " <Residue MG het=H_MG resseq=902 icode= >,\n",
       " <Residue MG het=H_MG resseq=903 icode= >,\n",
       " <Residue MG het=H_MG resseq=904 icode= >,\n",
       " <Residue MG het=H_MG resseq=905 icode= >]"
      ]
     },
     "execution_count": 22,
     "metadata": {},
     "output_type": "execute_result"
    }
   ],
   "source": [
    "ligands['A']['MG']"
   ]
  },
  {
   "cell_type": "code",
   "execution_count": 24,
   "metadata": {},
   "outputs": [],
   "source": [
    "ligand_coords = extract_ligand_coords(ligands['A']['MG'][0])"
   ]
  },
  {
   "cell_type": "code",
   "execution_count": 32,
   "metadata": {},
   "outputs": [],
   "source": [
    "sdf_file_path = '8fd9_ligand.sdf'\n",
    "suppl = Chem.SDMolSupplier(sdf_file_path, removeHs=False)\n",
    "ligand = next(suppl)"
   ]
  },
  {
   "cell_type": "code",
   "execution_count": 30,
   "metadata": {},
   "outputs": [],
   "source": [
    "def draw(ms,p=None, confIds=None):\n",
    "    if p is None:\n",
    "        p = py3Dmol.view(width=400, height=400)\n",
    "    if confIds is None:\n",
    "        confIds = [-1]*len(ms)\n",
    "    p.removeAllModels()\n",
    "    for i,m in enumerate(ms):\n",
    "        mb=Chem.MolToMolBlock(m, confId=confIds[i])\n",
    "        p.addModel(mb, 'sdf')\n",
    "        p.setStyle({'model':i},{'stick':{'radius':0.15}})\n",
    "    p.setBackgroundColor('white')#'0xeeeeee')\n",
    "    p.zoomTo()\n",
    "    return p.show()"
   ]
  },
  {
   "cell_type": "code",
   "execution_count": 37,
   "metadata": {},
   "outputs": [
    {
     "data": {
      "text/plain": [
       "1"
      ]
     },
     "execution_count": 37,
     "metadata": {},
     "output_type": "execute_result"
    }
   ],
   "source": [
    "ligand.GetNumConformers()"
   ]
  },
  {
   "cell_type": "code",
   "execution_count": 39,
   "metadata": {},
   "outputs": [
    {
     "data": {
      "application/3dmoljs_load.v0": "<div id=\"3dmolviewer_17214296744171798\"  style=\"position: relative; width: 400px; height: 400px;\">\n        <p id=\"3dmolwarning_17214296744171798\" style=\"background-color:#ffcccc;color:black\">3Dmol.js failed to load for some reason.  Please check your browser console for error messages.<br></p>\n        </div>\n<script>\n\nvar loadScriptAsync = function(uri){\n  return new Promise((resolve, reject) => {\n    //this is to ignore the existence of requirejs amd\n    var savedexports, savedmodule;\n    if (typeof exports !== 'undefined') savedexports = exports;\n    else exports = {}\n    if (typeof module !== 'undefined') savedmodule = module;\n    else module = {}\n\n    var tag = document.createElement('script');\n    tag.src = uri;\n    tag.async = true;\n    tag.onload = () => {\n        exports = savedexports;\n        module = savedmodule;\n        resolve();\n    };\n  var firstScriptTag = document.getElementsByTagName('script')[0];\n  firstScriptTag.parentNode.insertBefore(tag, firstScriptTag);\n});\n};\n\nif(typeof $3Dmolpromise === 'undefined') {\n$3Dmolpromise = null;\n  $3Dmolpromise = loadScriptAsync('https://cdnjs.cloudflare.com/ajax/libs/3Dmol/2.2.1-post1/3Dmol-min.js');\n}\n\nvar viewer_17214296744171798 = null;\nvar warn = document.getElementById(\"3dmolwarning_17214296744171798\");\nif(warn) {\n    warn.parentNode.removeChild(warn);\n}\n$3Dmolpromise.then(function() {\nviewer_17214296744171798 = $3Dmol.createViewer(document.getElementById(\"3dmolviewer_17214296744171798\"),{backgroundColor:\"white\"});\nviewer_17214296744171798.zoomTo();\n\tviewer_17214296744171798.removeAllModels();\n\tviewer_17214296744171798.addModel(\"8fd9.A\\n     RDKit          3D\\n\\n 58 62  0  0  0  0  0  0  0  0999 V2000\\n   -0.0581   14.6821   43.8579 C   0  0  1  0  0  0  0  0  0  0  0  0\\n    0.3515   13.6622   42.8727 N   0  0  0  0  0  0  0  0  0  0  0  0\\n    0.1232   12.4813   41.0189 O   0  0  0  0  0  0  0  0  0  0  0  0\\n    0.6684   14.1929   45.1221 C   0  0  0  0  0  0  0  0  0  0  0  0\\n    1.0516   16.4078   42.3810 N   0  0  0  0  0  0  0  0  0  0  0  0\\n    5.2940   20.7996   38.4170 O   0  0  0  0  0  0  0  0  0  0  0  0\\n    1.9452   13.6261   44.5733 C   0  0  0  0  0  0  0  0  0  0  0  0\\n   -0.7946   19.8392   44.8666 N   0  0  0  0  0  0  0  0  0  0  0  0\\n    1.4662   12.8412   43.3755 C   0  0  0  0  0  0  0  0  0  0  0  0\\n    0.4689   20.7445   43.1753 N   0  0  0  0  0  0  0  0  0  0  0  0\\n    0.2677   16.0849   43.4471 C   0  0  0  0  0  0  0  0  0  0  0  0\\n    3.4119   20.9189   37.1297 N   0  0  0  0  0  0  0  0  0  0  0  0\\n    0.3183   18.3370   43.3786 C   0  0  0  0  0  0  0  0  0  0  0  0\\n    2.9307   21.8477   35.1026 N   0  0  0  0  0  0  0  0  0  0  0  0\\n   -0.2298   13.4525   41.6763 C   0  0  0  0  0  0  0  0  0  0  0  0\\n   -0.2017   17.2413   44.0614 N   0  0  0  0  0  0  0  0  0  0  0  0\\n    1.1035   17.8045   42.3448 C   0  0  0  0  0  0  0  0  0  0  0  0\\n   -1.0170   17.4836   45.1567 C   0  0  0  0  0  0  0  0  0  0  0  0\\n    0.0100   19.6599   43.7876 C   0  0  0  0  0  0  0  0  0  0  0  0\\n    1.8714   18.5020   41.2906 C   0  0  0  0  0  0  0  0  0  0  0  0\\n   -1.2825   18.7798   45.5141 C   0  0  0  0  0  0  0  0  0  0  0  0\\n   -1.2070   14.2688   41.2354 C   0  0  0  0  0  0  0  0  0  0  0  0\\n    1.5089   18.3833   39.9535 C   0  0  0  0  0  0  0  0  0  0  0  0\\n    2.9784   19.2817   41.6093 C   0  0  0  0  0  0  0  0  0  0  0  0\\n    2.2151   19.0410   38.9719 C   0  0  0  0  0  0  0  0  0  0  0  0\\n    3.6875   19.9340   40.6260 C   0  0  0  0  0  0  0  0  0  0  0  0\\n    3.3243   19.8174   39.2892 C   0  0  0  0  0  0  0  0  0  0  0  0\\n   -2.1231   13.9090   40.3587 C   0  0  0  0  0  0  0  0  0  0  0  0\\n    4.1086   20.5404   38.2413 C   0  0  0  0  0  0  0  0  0  0  0  0\\n   -3.0510   14.8447   39.6497 C   0  0  0  0  0  0  0  0  0  0  0  0\\n    3.9024   21.5314   35.9657 C   0  0  0  0  0  0  0  0  0  0  0  0\\n    5.2512   21.7871   35.7163 C   0  0  0  0  0  0  0  0  0  0  0  0\\n    5.5860   22.3927   34.5292 C   0  0  0  0  0  0  0  0  0  0  0  0\\n    3.2984   22.4381   33.9537 C   0  0  0  0  0  0  0  0  0  0  0  0\\n    4.5988   22.7271   33.6275 C   0  0  0  0  0  0  0  0  0  0  0  0\\n   -1.1369   14.7626   43.9913 H   0  0  0  0  0  0  0  0  0  0  0  0\\n    2.4189   20.7352   37.1472 H   0  0  0  0  0  0  0  0  0  0  0  0\\n   -1.4365   16.6630   45.7198 H   0  0  0  0  0  0  0  0  0  0  0  0\\n   -1.9220   18.9531   46.3670 H   0  0  0  0  0  0  0  0  0  0  0  0\\n    0.6638   17.7681   39.6821 H   0  0  0  0  0  0  0  0  0  0  0  0\\n    3.2852   19.3766   42.6404 H   0  0  0  0  0  0  0  0  0  0  0  0\\n    1.9035   18.9529   37.9416 H   0  0  0  0  0  0  0  0  0  0  0  0\\n    4.5367   20.5440   40.8966 H   0  0  0  0  0  0  0  0  0  0  0  0\\n    0.0882   13.4272   45.6370 H   0  0  0  0  0  0  0  0  0  0  0  0\\n    0.8670   15.0188   45.8052 H   0  0  0  0  0  0  0  0  0  0  0  0\\n    6.0102   21.5168   36.4355 H   0  0  0  0  0  0  0  0  0  0  0  0\\n    6.6204   22.6060   34.3032 H   0  0  0  0  0  0  0  0  0  0  0  0\\n    2.5257   22.7004   33.2462 H   0  0  0  0  0  0  0  0  0  0  0  0\\n    4.8426   23.2038   32.6896 H   0  0  0  0  0  0  0  0  0  0  0  0\\n    2.6321   14.4185   44.2760 H   0  0  0  0  0  0  0  0  0  0  0  0\\n    2.4326   12.9768   45.3006 H   0  0  0  0  0  0  0  0  0  0  0  0\\n    2.2533   12.7470   42.6274 H   0  0  0  0  0  0  0  0  0  0  0  0\\n    0.2166   21.6614   43.5156 H   0  0  0  0  0  0  0  0  0  0  0  0\\n    1.1224   11.8490   43.6681 H   0  0  0  0  0  0  0  0  0  0  0  0\\n    1.0702   20.6529   42.3690 H   0  0  0  0  0  0  0  0  0  0  0  0\\n   -3.7013   14.2768   38.9845 H   0  0  0  0  0  0  0  0  0  0  0  0\\n   -2.4705   15.5599   39.0670 H   0  0  0  0  0  0  0  0  0  0  0  0\\n   -3.6571   15.3791   40.3813 H   0  0  0  0  0  0  0  0  0  0  0  0\\n  1  4  1  0\\n  1 36  1  1\\n  1  2  1  0\\n  2  9  1  0\\n  2 15  1  0\\n  4  7  1  0\\n  4 44  1  0\\n  4 45  1  0\\n  7 50  1  0\\n  7 51  1  0\\n  8 19  2  0\\n  8 21  1  0\\n  7  9  1  0\\n  9 52  1  0\\n  9 54  1  0\\n 10 53  1  0\\n 10 55  1  0\\n  1 11  1  0\\n  5 11  2  0\\n 11 16  1  0\\n 12 37  1  0\\n 13 16  1  0\\n 13 17  2  0\\n 13 19  1  0\\n  3 15  2  0\\n 15 22  1  0\\n  5 17  1  0\\n 17 20  1  0\\n 16 18  1  0\\n 18 38  1  0\\n 10 19  1  0\\n 20 23  2  0\\n 18 21  2  0\\n 21 39  1  0\\n 22 28  1  0\\n 23 25  1  0\\n 23 40  1  0\\n 20 24  1  0\\n 24 26  2  0\\n 24 41  1  0\\n 25 27  2  0\\n 25 42  1  0\\n 26 27  1  0\\n 26 43  1  0\\n  6 29  2  0\\n 12 29  1  0\\n 27 29  1  0\\n 28 30  1  0\\n 30 56  1  0\\n 30 57  1  0\\n 30 58  1  0\\n 12 31  1  0\\n 14 31  2  0\\n 31 32  1  0\\n 32 46  1  0\\n 32 33  2  0\\n 33 35  1  0\\n 33 47  1  0\\n 14 34  1  0\\n 34 48  1  0\\n 34 35  2  0\\n 35 49  1  0\\nM  END\\n\",\"sdf\");\n\tviewer_17214296744171798.setStyle({\"model\": 0},{\"stick\": {\"radius\": 0.15}});\n\tviewer_17214296744171798.setBackgroundColor(\"white\");\n\tviewer_17214296744171798.zoomTo();\nviewer_17214296744171798.render();\n});\n</script>",
      "text/html": [
       "<div id=\"3dmolviewer_17214296744171798\"  style=\"position: relative; width: 400px; height: 400px;\">\n",
       "        <p id=\"3dmolwarning_17214296744171798\" style=\"background-color:#ffcccc;color:black\">3Dmol.js failed to load for some reason.  Please check your browser console for error messages.<br></p>\n",
       "        </div>\n",
       "<script>\n",
       "\n",
       "var loadScriptAsync = function(uri){\n",
       "  return new Promise((resolve, reject) => {\n",
       "    //this is to ignore the existence of requirejs amd\n",
       "    var savedexports, savedmodule;\n",
       "    if (typeof exports !== 'undefined') savedexports = exports;\n",
       "    else exports = {}\n",
       "    if (typeof module !== 'undefined') savedmodule = module;\n",
       "    else module = {}\n",
       "\n",
       "    var tag = document.createElement('script');\n",
       "    tag.src = uri;\n",
       "    tag.async = true;\n",
       "    tag.onload = () => {\n",
       "        exports = savedexports;\n",
       "        module = savedmodule;\n",
       "        resolve();\n",
       "    };\n",
       "  var firstScriptTag = document.getElementsByTagName('script')[0];\n",
       "  firstScriptTag.parentNode.insertBefore(tag, firstScriptTag);\n",
       "});\n",
       "};\n",
       "\n",
       "if(typeof $3Dmolpromise === 'undefined') {\n",
       "$3Dmolpromise = null;\n",
       "  $3Dmolpromise = loadScriptAsync('https://cdnjs.cloudflare.com/ajax/libs/3Dmol/2.2.1-post1/3Dmol-min.js');\n",
       "}\n",
       "\n",
       "var viewer_17214296744171798 = null;\n",
       "var warn = document.getElementById(\"3dmolwarning_17214296744171798\");\n",
       "if(warn) {\n",
       "    warn.parentNode.removeChild(warn);\n",
       "}\n",
       "$3Dmolpromise.then(function() {\n",
       "viewer_17214296744171798 = $3Dmol.createViewer(document.getElementById(\"3dmolviewer_17214296744171798\"),{backgroundColor:\"white\"});\n",
       "viewer_17214296744171798.zoomTo();\n",
       "\tviewer_17214296744171798.removeAllModels();\n",
       "\tviewer_17214296744171798.addModel(\"8fd9.A\\n     RDKit          3D\\n\\n 58 62  0  0  0  0  0  0  0  0999 V2000\\n   -0.0581   14.6821   43.8579 C   0  0  1  0  0  0  0  0  0  0  0  0\\n    0.3515   13.6622   42.8727 N   0  0  0  0  0  0  0  0  0  0  0  0\\n    0.1232   12.4813   41.0189 O   0  0  0  0  0  0  0  0  0  0  0  0\\n    0.6684   14.1929   45.1221 C   0  0  0  0  0  0  0  0  0  0  0  0\\n    1.0516   16.4078   42.3810 N   0  0  0  0  0  0  0  0  0  0  0  0\\n    5.2940   20.7996   38.4170 O   0  0  0  0  0  0  0  0  0  0  0  0\\n    1.9452   13.6261   44.5733 C   0  0  0  0  0  0  0  0  0  0  0  0\\n   -0.7946   19.8392   44.8666 N   0  0  0  0  0  0  0  0  0  0  0  0\\n    1.4662   12.8412   43.3755 C   0  0  0  0  0  0  0  0  0  0  0  0\\n    0.4689   20.7445   43.1753 N   0  0  0  0  0  0  0  0  0  0  0  0\\n    0.2677   16.0849   43.4471 C   0  0  0  0  0  0  0  0  0  0  0  0\\n    3.4119   20.9189   37.1297 N   0  0  0  0  0  0  0  0  0  0  0  0\\n    0.3183   18.3370   43.3786 C   0  0  0  0  0  0  0  0  0  0  0  0\\n    2.9307   21.8477   35.1026 N   0  0  0  0  0  0  0  0  0  0  0  0\\n   -0.2298   13.4525   41.6763 C   0  0  0  0  0  0  0  0  0  0  0  0\\n   -0.2017   17.2413   44.0614 N   0  0  0  0  0  0  0  0  0  0  0  0\\n    1.1035   17.8045   42.3448 C   0  0  0  0  0  0  0  0  0  0  0  0\\n   -1.0170   17.4836   45.1567 C   0  0  0  0  0  0  0  0  0  0  0  0\\n    0.0100   19.6599   43.7876 C   0  0  0  0  0  0  0  0  0  0  0  0\\n    1.8714   18.5020   41.2906 C   0  0  0  0  0  0  0  0  0  0  0  0\\n   -1.2825   18.7798   45.5141 C   0  0  0  0  0  0  0  0  0  0  0  0\\n   -1.2070   14.2688   41.2354 C   0  0  0  0  0  0  0  0  0  0  0  0\\n    1.5089   18.3833   39.9535 C   0  0  0  0  0  0  0  0  0  0  0  0\\n    2.9784   19.2817   41.6093 C   0  0  0  0  0  0  0  0  0  0  0  0\\n    2.2151   19.0410   38.9719 C   0  0  0  0  0  0  0  0  0  0  0  0\\n    3.6875   19.9340   40.6260 C   0  0  0  0  0  0  0  0  0  0  0  0\\n    3.3243   19.8174   39.2892 C   0  0  0  0  0  0  0  0  0  0  0  0\\n   -2.1231   13.9090   40.3587 C   0  0  0  0  0  0  0  0  0  0  0  0\\n    4.1086   20.5404   38.2413 C   0  0  0  0  0  0  0  0  0  0  0  0\\n   -3.0510   14.8447   39.6497 C   0  0  0  0  0  0  0  0  0  0  0  0\\n    3.9024   21.5314   35.9657 C   0  0  0  0  0  0  0  0  0  0  0  0\\n    5.2512   21.7871   35.7163 C   0  0  0  0  0  0  0  0  0  0  0  0\\n    5.5860   22.3927   34.5292 C   0  0  0  0  0  0  0  0  0  0  0  0\\n    3.2984   22.4381   33.9537 C   0  0  0  0  0  0  0  0  0  0  0  0\\n    4.5988   22.7271   33.6275 C   0  0  0  0  0  0  0  0  0  0  0  0\\n   -1.1369   14.7626   43.9913 H   0  0  0  0  0  0  0  0  0  0  0  0\\n    2.4189   20.7352   37.1472 H   0  0  0  0  0  0  0  0  0  0  0  0\\n   -1.4365   16.6630   45.7198 H   0  0  0  0  0  0  0  0  0  0  0  0\\n   -1.9220   18.9531   46.3670 H   0  0  0  0  0  0  0  0  0  0  0  0\\n    0.6638   17.7681   39.6821 H   0  0  0  0  0  0  0  0  0  0  0  0\\n    3.2852   19.3766   42.6404 H   0  0  0  0  0  0  0  0  0  0  0  0\\n    1.9035   18.9529   37.9416 H   0  0  0  0  0  0  0  0  0  0  0  0\\n    4.5367   20.5440   40.8966 H   0  0  0  0  0  0  0  0  0  0  0  0\\n    0.0882   13.4272   45.6370 H   0  0  0  0  0  0  0  0  0  0  0  0\\n    0.8670   15.0188   45.8052 H   0  0  0  0  0  0  0  0  0  0  0  0\\n    6.0102   21.5168   36.4355 H   0  0  0  0  0  0  0  0  0  0  0  0\\n    6.6204   22.6060   34.3032 H   0  0  0  0  0  0  0  0  0  0  0  0\\n    2.5257   22.7004   33.2462 H   0  0  0  0  0  0  0  0  0  0  0  0\\n    4.8426   23.2038   32.6896 H   0  0  0  0  0  0  0  0  0  0  0  0\\n    2.6321   14.4185   44.2760 H   0  0  0  0  0  0  0  0  0  0  0  0\\n    2.4326   12.9768   45.3006 H   0  0  0  0  0  0  0  0  0  0  0  0\\n    2.2533   12.7470   42.6274 H   0  0  0  0  0  0  0  0  0  0  0  0\\n    0.2166   21.6614   43.5156 H   0  0  0  0  0  0  0  0  0  0  0  0\\n    1.1224   11.8490   43.6681 H   0  0  0  0  0  0  0  0  0  0  0  0\\n    1.0702   20.6529   42.3690 H   0  0  0  0  0  0  0  0  0  0  0  0\\n   -3.7013   14.2768   38.9845 H   0  0  0  0  0  0  0  0  0  0  0  0\\n   -2.4705   15.5599   39.0670 H   0  0  0  0  0  0  0  0  0  0  0  0\\n   -3.6571   15.3791   40.3813 H   0  0  0  0  0  0  0  0  0  0  0  0\\n  1  4  1  0\\n  1 36  1  1\\n  1  2  1  0\\n  2  9  1  0\\n  2 15  1  0\\n  4  7  1  0\\n  4 44  1  0\\n  4 45  1  0\\n  7 50  1  0\\n  7 51  1  0\\n  8 19  2  0\\n  8 21  1  0\\n  7  9  1  0\\n  9 52  1  0\\n  9 54  1  0\\n 10 53  1  0\\n 10 55  1  0\\n  1 11  1  0\\n  5 11  2  0\\n 11 16  1  0\\n 12 37  1  0\\n 13 16  1  0\\n 13 17  2  0\\n 13 19  1  0\\n  3 15  2  0\\n 15 22  1  0\\n  5 17  1  0\\n 17 20  1  0\\n 16 18  1  0\\n 18 38  1  0\\n 10 19  1  0\\n 20 23  2  0\\n 18 21  2  0\\n 21 39  1  0\\n 22 28  1  0\\n 23 25  1  0\\n 23 40  1  0\\n 20 24  1  0\\n 24 26  2  0\\n 24 41  1  0\\n 25 27  2  0\\n 25 42  1  0\\n 26 27  1  0\\n 26 43  1  0\\n  6 29  2  0\\n 12 29  1  0\\n 27 29  1  0\\n 28 30  1  0\\n 30 56  1  0\\n 30 57  1  0\\n 30 58  1  0\\n 12 31  1  0\\n 14 31  2  0\\n 31 32  1  0\\n 32 46  1  0\\n 32 33  2  0\\n 33 35  1  0\\n 33 47  1  0\\n 14 34  1  0\\n 34 48  1  0\\n 34 35  2  0\\n 35 49  1  0\\nM  END\\n\",\"sdf\");\n",
       "\tviewer_17214296744171798.setStyle({\"model\": 0},{\"stick\": {\"radius\": 0.15}});\n",
       "\tviewer_17214296744171798.setBackgroundColor(\"white\");\n",
       "\tviewer_17214296744171798.zoomTo();\n",
       "viewer_17214296744171798.render();\n",
       "});\n",
       "</script>"
      ]
     },
     "metadata": {},
     "output_type": "display_data"
    }
   ],
   "source": [
    "\n",
    "draw([ligand])"
   ]
  },
  {
   "cell_type": "code",
   "execution_count": 41,
   "metadata": {},
   "outputs": [],
   "source": [
    "def embed(mol,n=10):\n",
    "    if mol is not None:\n",
    "        ps = AllChem.ETKDGv2()\n",
    "        ps.useRandomCoords=False\n",
    "        AllChem.EmbedMultipleConfs(mol, n, ps)\n",
    "        if mol.GetNumConformers() != n:\n",
    "            print(\"could not embed, trying random coordinates for initialization\")\n",
    "            ps.useRandomCoords=True\n",
    "            AllChem.EmbedMultipleConfs(mol, n, ps)\n",
    "        if mol.GetNumConformers() != n:\n",
    "            print(\"could not embed\")\n",
    "            return None\n",
    "    return mol"
   ]
  },
  {
   "cell_type": "code",
   "execution_count": 43,
   "metadata": {},
   "outputs": [
    {
     "data": {
      "application/3dmoljs_load.v0": "<div id=\"3dmolviewer_1721430796616926\"  style=\"position: relative; width: 400px; height: 400px;\">\n        <p id=\"3dmolwarning_1721430796616926\" style=\"background-color:#ffcccc;color:black\">3Dmol.js failed to load for some reason.  Please check your browser console for error messages.<br></p>\n        </div>\n<script>\n\nvar loadScriptAsync = function(uri){\n  return new Promise((resolve, reject) => {\n    //this is to ignore the existence of requirejs amd\n    var savedexports, savedmodule;\n    if (typeof exports !== 'undefined') savedexports = exports;\n    else exports = {}\n    if (typeof module !== 'undefined') savedmodule = module;\n    else module = {}\n\n    var tag = document.createElement('script');\n    tag.src = uri;\n    tag.async = true;\n    tag.onload = () => {\n        exports = savedexports;\n        module = savedmodule;\n        resolve();\n    };\n  var firstScriptTag = document.getElementsByTagName('script')[0];\n  firstScriptTag.parentNode.insertBefore(tag, firstScriptTag);\n});\n};\n\nif(typeof $3Dmolpromise === 'undefined') {\n$3Dmolpromise = null;\n  $3Dmolpromise = loadScriptAsync('https://cdnjs.cloudflare.com/ajax/libs/3Dmol/2.2.1-post1/3Dmol-min.js');\n}\n\nvar viewer_1721430796616926 = null;\nvar warn = document.getElementById(\"3dmolwarning_1721430796616926\");\nif(warn) {\n    warn.parentNode.removeChild(warn);\n}\n$3Dmolpromise.then(function() {\nviewer_1721430796616926 = $3Dmol.createViewer(document.getElementById(\"3dmolviewer_1721430796616926\"),{backgroundColor:\"white\"});\nviewer_1721430796616926.zoomTo();\n\tviewer_1721430796616926.removeAllModels();\n\tviewer_1721430796616926.addModel(\"\\n     RDKit          3D\\n\\n 12 12  0  0  0  0  0  0  0  0999 V2000\\n   -1.3434   -0.0680   -0.0395 C   0  0  0  0  0  0  0  0  0  0  0  0\\n   -0.6144   -1.2504    0.0262 C   0  0  0  0  0  0  0  0  0  0  0  0\\n    0.7612   -1.2595    0.0695 C   0  0  0  0  0  0  0  0  0  0  0  0\\n    1.4036   -0.0398    0.0453 C   0  0  0  0  0  0  0  0  0  0  0  0\\n    0.6833    1.1417   -0.0202 C   0  0  0  0  0  0  0  0  0  0  0  0\\n   -0.6953    1.1509   -0.0635 C   0  0  0  0  0  0  0  0  0  0  0  0\\n   -1.6100    2.6492   -0.1465 Cl  0  0  0  0  0  0  0  0  0  0  0  0\\n   -2.4243   -0.0584   -0.0736 H   0  0  0  0  0  0  0  0  0  0  0  0\\n   -1.1350   -2.2004    0.0445 H   0  0  0  0  0  0  0  0  0  0  0  0\\n    1.3196   -2.1839    0.1206 H   0  0  0  0  0  0  0  0  0  0  0  0\\n    2.4899    0.0018    0.0777 H   0  0  0  0  0  0  0  0  0  0  0  0\\n    1.1649    2.1168   -0.0405 H   0  0  0  0  0  0  0  0  0  0  0  0\\n  1  2  2  0\\n  2  3  1  0\\n  3  4  2  0\\n  4  5  1  0\\n  5  6  2  0\\n  6  7  1  0\\n  6  1  1  0\\n  1  8  1  0\\n  2  9  1  0\\n  3 10  1  0\\n  4 11  1  0\\n  5 12  1  0\\nM  END\\n\",\"sdf\");\n\tviewer_1721430796616926.setStyle({\"model\": 0},{\"stick\": {\"radius\": 0.15}});\n\tviewer_1721430796616926.addModel(\"\\n     RDKit          3D\\n\\n 14 14  0  0  0  0  0  0  0  0999 V2000\\n    0.3342    1.1349   -0.0441 C   0  0  0  0  0  0  0  0  0  0  0  0\\n   -1.0278    1.3798   -0.0220 C   0  0  0  0  0  0  0  0  0  0  0  0\\n   -1.8904    0.3036    0.0318 C   0  0  0  0  0  0  0  0  0  0  0  0\\n   -1.3579   -0.9883    0.0619 C   0  0  0  0  0  0  0  0  0  0  0  0\\n    0.0082   -1.1896    0.0383 C   0  0  0  0  0  0  0  0  0  0  0  0\\n    0.8704   -0.1359   -0.0148 C   0  0  0  0  0  0  0  0  0  0  0  0\\n    2.2807   -0.3032   -0.0405 N   0  0  0  0  0  4  0  0  0  0  0  0\\n    2.7786   -1.5840   -0.0101 O   0  0  0  0  0  1  0  0  0  0  0  0\\n    3.0562    0.6399   -0.0880 O   0  0  0  0  0  0  0  0  0  0  0  0\\n    0.9806    2.0138   -0.0868 H   0  0  0  0  0  0  0  0  0  0  0  0\\n   -1.4439    2.3783   -0.0451 H   0  0  0  0  0  0  0  0  0  0  0  0\\n   -2.9697    0.4114    0.0521 H   0  0  0  0  0  0  0  0  0  0  0  0\\n   -1.9960   -1.8492    0.1038 H   0  0  0  0  0  0  0  0  0  0  0  0\\n    0.3766   -2.2117    0.0633 H   0  0  0  0  0  0  0  0  0  0  0  0\\n  1  2  2  0\\n  2  3  1  0\\n  3  4  2  0\\n  4  5  1  0\\n  5  6  2  0\\n  6  7  1  0\\n  7  8  1  0\\n  7  9  2  0\\n  6  1  1  0\\n  1 10  1  0\\n  2 11  1  0\\n  3 12  1  0\\n  4 13  1  0\\n  5 14  1  0\\nM  CHG  2   7   1   8  -1\\nM  END\\n\",\"sdf\");\n\tviewer_1721430796616926.setStyle({\"model\": 1},{\"stick\": {\"radius\": 0.15}});\n\tviewer_1721430796616926.setBackgroundColor(\"white\");\n\tviewer_1721430796616926.zoomTo();\nviewer_1721430796616926.render();\n});\n</script>",
      "text/html": [
       "<div id=\"3dmolviewer_1721430796616926\"  style=\"position: relative; width: 400px; height: 400px;\">\n",
       "        <p id=\"3dmolwarning_1721430796616926\" style=\"background-color:#ffcccc;color:black\">3Dmol.js failed to load for some reason.  Please check your browser console for error messages.<br></p>\n",
       "        </div>\n",
       "<script>\n",
       "\n",
       "var loadScriptAsync = function(uri){\n",
       "  return new Promise((resolve, reject) => {\n",
       "    //this is to ignore the existence of requirejs amd\n",
       "    var savedexports, savedmodule;\n",
       "    if (typeof exports !== 'undefined') savedexports = exports;\n",
       "    else exports = {}\n",
       "    if (typeof module !== 'undefined') savedmodule = module;\n",
       "    else module = {}\n",
       "\n",
       "    var tag = document.createElement('script');\n",
       "    tag.src = uri;\n",
       "    tag.async = true;\n",
       "    tag.onload = () => {\n",
       "        exports = savedexports;\n",
       "        module = savedmodule;\n",
       "        resolve();\n",
       "    };\n",
       "  var firstScriptTag = document.getElementsByTagName('script')[0];\n",
       "  firstScriptTag.parentNode.insertBefore(tag, firstScriptTag);\n",
       "});\n",
       "};\n",
       "\n",
       "if(typeof $3Dmolpromise === 'undefined') {\n",
       "$3Dmolpromise = null;\n",
       "  $3Dmolpromise = loadScriptAsync('https://cdnjs.cloudflare.com/ajax/libs/3Dmol/2.2.1-post1/3Dmol-min.js');\n",
       "}\n",
       "\n",
       "var viewer_1721430796616926 = null;\n",
       "var warn = document.getElementById(\"3dmolwarning_1721430796616926\");\n",
       "if(warn) {\n",
       "    warn.parentNode.removeChild(warn);\n",
       "}\n",
       "$3Dmolpromise.then(function() {\n",
       "viewer_1721430796616926 = $3Dmol.createViewer(document.getElementById(\"3dmolviewer_1721430796616926\"),{backgroundColor:\"white\"});\n",
       "viewer_1721430796616926.zoomTo();\n",
       "\tviewer_1721430796616926.removeAllModels();\n",
       "\tviewer_1721430796616926.addModel(\"\\n     RDKit          3D\\n\\n 12 12  0  0  0  0  0  0  0  0999 V2000\\n   -1.3434   -0.0680   -0.0395 C   0  0  0  0  0  0  0  0  0  0  0  0\\n   -0.6144   -1.2504    0.0262 C   0  0  0  0  0  0  0  0  0  0  0  0\\n    0.7612   -1.2595    0.0695 C   0  0  0  0  0  0  0  0  0  0  0  0\\n    1.4036   -0.0398    0.0453 C   0  0  0  0  0  0  0  0  0  0  0  0\\n    0.6833    1.1417   -0.0202 C   0  0  0  0  0  0  0  0  0  0  0  0\\n   -0.6953    1.1509   -0.0635 C   0  0  0  0  0  0  0  0  0  0  0  0\\n   -1.6100    2.6492   -0.1465 Cl  0  0  0  0  0  0  0  0  0  0  0  0\\n   -2.4243   -0.0584   -0.0736 H   0  0  0  0  0  0  0  0  0  0  0  0\\n   -1.1350   -2.2004    0.0445 H   0  0  0  0  0  0  0  0  0  0  0  0\\n    1.3196   -2.1839    0.1206 H   0  0  0  0  0  0  0  0  0  0  0  0\\n    2.4899    0.0018    0.0777 H   0  0  0  0  0  0  0  0  0  0  0  0\\n    1.1649    2.1168   -0.0405 H   0  0  0  0  0  0  0  0  0  0  0  0\\n  1  2  2  0\\n  2  3  1  0\\n  3  4  2  0\\n  4  5  1  0\\n  5  6  2  0\\n  6  7  1  0\\n  6  1  1  0\\n  1  8  1  0\\n  2  9  1  0\\n  3 10  1  0\\n  4 11  1  0\\n  5 12  1  0\\nM  END\\n\",\"sdf\");\n",
       "\tviewer_1721430796616926.setStyle({\"model\": 0},{\"stick\": {\"radius\": 0.15}});\n",
       "\tviewer_1721430796616926.addModel(\"\\n     RDKit          3D\\n\\n 14 14  0  0  0  0  0  0  0  0999 V2000\\n    0.3342    1.1349   -0.0441 C   0  0  0  0  0  0  0  0  0  0  0  0\\n   -1.0278    1.3798   -0.0220 C   0  0  0  0  0  0  0  0  0  0  0  0\\n   -1.8904    0.3036    0.0318 C   0  0  0  0  0  0  0  0  0  0  0  0\\n   -1.3579   -0.9883    0.0619 C   0  0  0  0  0  0  0  0  0  0  0  0\\n    0.0082   -1.1896    0.0383 C   0  0  0  0  0  0  0  0  0  0  0  0\\n    0.8704   -0.1359   -0.0148 C   0  0  0  0  0  0  0  0  0  0  0  0\\n    2.2807   -0.3032   -0.0405 N   0  0  0  0  0  4  0  0  0  0  0  0\\n    2.7786   -1.5840   -0.0101 O   0  0  0  0  0  1  0  0  0  0  0  0\\n    3.0562    0.6399   -0.0880 O   0  0  0  0  0  0  0  0  0  0  0  0\\n    0.9806    2.0138   -0.0868 H   0  0  0  0  0  0  0  0  0  0  0  0\\n   -1.4439    2.3783   -0.0451 H   0  0  0  0  0  0  0  0  0  0  0  0\\n   -2.9697    0.4114    0.0521 H   0  0  0  0  0  0  0  0  0  0  0  0\\n   -1.9960   -1.8492    0.1038 H   0  0  0  0  0  0  0  0  0  0  0  0\\n    0.3766   -2.2117    0.0633 H   0  0  0  0  0  0  0  0  0  0  0  0\\n  1  2  2  0\\n  2  3  1  0\\n  3  4  2  0\\n  4  5  1  0\\n  5  6  2  0\\n  6  7  1  0\\n  7  8  1  0\\n  7  9  2  0\\n  6  1  1  0\\n  1 10  1  0\\n  2 11  1  0\\n  3 12  1  0\\n  4 13  1  0\\n  5 14  1  0\\nM  CHG  2   7   1   8  -1\\nM  END\\n\",\"sdf\");\n",
       "\tviewer_1721430796616926.setStyle({\"model\": 1},{\"stick\": {\"radius\": 0.15}});\n",
       "\tviewer_1721430796616926.setBackgroundColor(\"white\");\n",
       "\tviewer_1721430796616926.zoomTo();\n",
       "viewer_1721430796616926.render();\n",
       "});\n",
       "</script>"
      ]
     },
     "metadata": {},
     "output_type": "display_data"
    }
   ],
   "source": [
    "m1 = Chem.AddHs(Chem.MolFromSmiles(\"c1ccccc1Cl\"))\n",
    "m2 = Chem.AddHs(Chem.MolFromSmiles(\"c1ccccc1[N+]([O-])=O\"))\n",
    "\n",
    "m1 = embed(m1, n=2)\n",
    "m2 = embed(m2, n=2)\n",
    "\n",
    "draw([m1,m2])"
   ]
  },
  {
   "cell_type": "code",
   "execution_count": 44,
   "metadata": {},
   "outputs": [
    {
     "data": {
      "image/png": "[encoded data removed]",
      "text/plain": [
       "<rdkit.Chem.rdchem.Mol at 0x3346aa650>"
      ]
     },
     "execution_count": 44,
     "metadata": {},
     "output_type": "execute_result"
    }
   ],
   "source": [
    "m1"
   ]
  },
  {
   "cell_type": "code",
   "execution_count": 74,
   "metadata": {},
   "outputs": [],
   "source": [
    "ligand_drawn = Chem.MolFromSmiles(Chem.MolToSmiles(ligand))"
   ]
  },
  {
   "cell_type": "code",
   "execution_count": 75,
   "metadata": {},
   "outputs": [
    {
     "data": {
      "text/plain": [
       "0"
      ]
     },
     "execution_count": 75,
     "metadata": {},
     "output_type": "execute_result"
    }
   ],
   "source": [
    "ligand_drawn.GetNumConformers()"
   ]
  },
  {
   "cell_type": "code",
   "execution_count": 100,
   "metadata": {},
   "outputs": [
    {
     "name": "stdout",
     "output_type": "stream",
     "text": [
      "1000 True\n"
     ]
    }
   ],
   "source": [
    "ligand_drawn = Chem.AddHs(ligand_drawn) # <- add hydrogens so that we get a reasonable conformer\n",
    "AllChem.EmbedMultipleConfs(ligand_drawn,1000, randomSeed=0xf00d) # <- generate 10 conformers\n",
    "print(ligand_drawn.GetNumConformers(),ligand_drawn.GetConformer().Is3D())"
   ]
  },
  {
   "cell_type": "code",
   "execution_count": 58,
   "metadata": {},
   "outputs": [
    {
     "data": {
      "application/3dmoljs_load.v0": "<div id=\"3dmolviewer_1721431783161023\"  style=\"position: relative; width: 400px; height: 400px;\">\n        <p id=\"3dmolwarning_1721431783161023\" style=\"background-color:#ffcccc;color:black\">3Dmol.js failed to load for some reason.  Please check your browser console for error messages.<br></p>\n        </div>\n<script>\n\nvar loadScriptAsync = function(uri){\n  return new Promise((resolve, reject) => {\n    //this is to ignore the existence of requirejs amd\n    var savedexports, savedmodule;\n    if (typeof exports !== 'undefined') savedexports = exports;\n    else exports = {}\n    if (typeof module !== 'undefined') savedmodule = module;\n    else module = {}\n\n    var tag = document.createElement('script');\n    tag.src = uri;\n    tag.async = true;\n    tag.onload = () => {\n        exports = savedexports;\n        module = savedmodule;\n        resolve();\n    };\n  var firstScriptTag = document.getElementsByTagName('script')[0];\n  firstScriptTag.parentNode.insertBefore(tag, firstScriptTag);\n});\n};\n\nif(typeof $3Dmolpromise === 'undefined') {\n$3Dmolpromise = null;\n  $3Dmolpromise = loadScriptAsync('https://cdnjs.cloudflare.com/ajax/libs/3Dmol/2.2.1-post1/3Dmol-min.js');\n}\n\nvar viewer_1721431783161023 = null;\nvar warn = document.getElementById(\"3dmolwarning_1721431783161023\");\nif(warn) {\n    warn.parentNode.removeChild(warn);\n}\n$3Dmolpromise.then(function() {\nviewer_1721431783161023 = $3Dmol.createViewer(document.getElementById(\"3dmolviewer_1721431783161023\"),{backgroundColor:\"white\"});\nviewer_1721431783161023.zoomTo();\n\tviewer_1721431783161023.removeAllModels();\n\tviewer_1721431783161023.addModel(\"\\n     RDKit          3D\\n\\n 62 66  0  0  0  0  0  0  0  0999 V2000\\n    8.7165    2.1923   -2.2421 C   0  0  0  0  0  0  0  0  0  0  0  0\\n    7.4590    2.0419   -1.7631 N   0  0  0  0  0  0  0  0  0  0  0  0\\n    7.1877    1.1948   -0.7547 C   0  0  0  0  0  0  0  0  0  0  0  0\\n    5.8380    1.0540   -0.2634 N   0  0  0  0  0  0  0  0  0  0  0  0\\n    4.9774    0.0898   -0.8290 C   0  0  0  0  0  0  0  0  0  0  0  0\\n    5.4526   -0.6156   -1.7608 O   0  0  0  0  0  0  0  0  0  0  0  0\\n    3.6037   -0.1199   -0.3957 C   0  0  0  0  0  0  0  0  0  0  0  0\\n    3.0131    0.6024    0.6079 C   0  0  0  0  0  0  0  0  0  0  0  0\\n    1.6984    0.3672    0.9880 C   0  0  0  0  0  0  0  0  0  0  0  0\\n    0.9241   -0.5936    0.3865 C   0  0  0  0  0  0  0  0  0  0  0  0\\n   -0.4469   -0.9173    0.7558 C   0  0  0  0  0  0  0  0  0  0  0  0\\n   -1.5205   -0.9478   -0.0705 N   0  0  0  0  0  0  0  0  0  0  0  0\\n   -2.6143   -1.3048    0.6038 C   0  0  0  0  0  0  0  0  0  0  0  0\\n   -4.0093   -1.4682    0.1058 C   0  0  1  0  0  0  0  0  0  0  0  0\\n   -4.4046   -0.3905   -0.7493 N   0  0  0  0  0  0  0  0  0  0  0  0\\n   -5.0669    0.7885   -0.3661 C   0  0  0  0  0  0  0  0  0  0  0  0\\n   -5.3646    0.9565    0.8552 O   0  0  0  0  0  0  0  0  0  0  0  0\\n   -5.4405    1.8593   -1.3248 C   0  0  0  0  0  0  0  0  0  0  0  0\\n   -6.1245    2.9648   -0.5930 C   0  0  0  0  0  0  0  0  0  0  0  0\\n   -5.1961    3.5292    0.4520 C   0  0  0  0  0  0  0  0  0  0  0  0\\n   -4.0057   -0.7189   -2.0861 C   0  0  0  0  0  0  0  0  0  0  0  0\\n   -4.4286   -2.1704   -2.1898 C   0  0  0  0  0  0  0  0  0  0  0  0\\n   -4.1258   -2.6780   -0.8010 C   0  0  0  0  0  0  0  0  0  0  0  0\\n   -2.2296   -1.5038    1.8717 N   0  0  0  0  0  0  0  0  0  0  0  0\\n   -2.9468   -1.8881    2.9688 C   0  0  0  0  0  0  0  0  0  0  0  0\\n   -2.2945   -2.0295    4.1599 C   0  0  0  0  0  0  0  0  0  0  0  0\\n   -0.9773   -1.8042    4.2854 N   0  0  0  0  0  0  0  0  0  0  0  0\\n   -0.2562   -1.4255    3.2176 C   0  0  0  0  0  0  0  0  0  0  0  0\\n    1.1459   -1.2052    3.2977 N   0  0  0  0  0  0  0  0  0  0  0  0\\n   -0.8892   -1.2733    2.0032 C   0  0  0  0  0  0  0  0  0  0  0  0\\n    1.5257   -1.3310   -0.6384 C   0  0  0  0  0  0  0  0  0  0  0  0\\n    2.8353   -1.0843   -1.0053 C   0  0  0  0  0  0  0  0  0  0  0  0\\n    8.2350    0.4760   -0.2158 C   0  0  0  0  0  0  0  0  0  0  0  0\\n    9.5227    0.6165   -0.6912 C   0  0  0  0  0  0  0  0  0  0  0  0\\n    9.7904    1.4887   -1.7266 C   0  0  0  0  0  0  0  0  0  0  0  0\\n    8.8730    2.8929   -3.0593 H   0  0  0  0  0  0  0  0  0  0  0  0\\n    5.4976    1.6708    0.5160 H   0  0  0  0  0  0  0  0  0  0  0  0\\n    3.5797    1.3662    1.1103 H   0  0  0  0  0  0  0  0  0  0  0  0\\n    1.2521    0.9807    1.7747 H   0  0  0  0  0  0  0  0  0  0  0  0\\n   -4.6601   -1.6252    0.9656 H   0  0  0  0  0  0  0  0  0  0  0  0\\n   -6.1411    1.3777   -2.0597 H   0  0  0  0  0  0  0  0  0  0  0  0\\n   -4.5260    2.1681   -1.8404 H   0  0  0  0  0  0  0  0  0  0  0  0\\n   -6.4506    3.7465   -1.3145 H   0  0  0  0  0  0  0  0  0  0  0  0\\n   -7.0354    2.6270   -0.0725 H   0  0  0  0  0  0  0  0  0  0  0  0\\n   -5.2538    4.6520    0.3679 H   0  0  0  0  0  0  0  0  0  0  0  0\\n   -4.1567    3.2704    0.1630 H   0  0  0  0  0  0  0  0  0  0  0  0\\n   -5.4564    3.2071    1.4790 H   0  0  0  0  0  0  0  0  0  0  0  0\\n   -4.5174   -0.0920   -2.8542 H   0  0  0  0  0  0  0  0  0  0  0  0\\n   -2.9181   -0.5929   -2.2609 H   0  0  0  0  0  0  0  0  0  0  0  0\\n   -3.9109   -2.7093   -2.9844 H   0  0  0  0  0  0  0  0  0  0  0  0\\n   -5.5458   -2.1433   -2.3526 H   0  0  0  0  0  0  0  0  0  0  0  0\\n   -3.1646   -3.2400   -0.8086 H   0  0  0  0  0  0  0  0  0  0  0  0\\n   -4.9653   -3.3350   -0.4915 H   0  0  0  0  0  0  0  0  0  0  0  0\\n   -4.0099   -2.0645    2.8416 H   0  0  0  0  0  0  0  0  0  0  0  0\\n   -2.8485   -2.3315    5.0324 H   0  0  0  0  0  0  0  0  0  0  0  0\\n    1.8283   -1.8544    2.8475 H   0  0  0  0  0  0  0  0  0  0  0  0\\n    1.5543   -0.3880    3.8081 H   0  0  0  0  0  0  0  0  0  0  0  0\\n    0.9192   -2.0889   -1.1162 H   0  0  0  0  0  0  0  0  0  0  0  0\\n    3.2380   -1.7032   -1.8173 H   0  0  0  0  0  0  0  0  0  0  0  0\\n    8.0728   -0.2102    0.5868 H   0  0  0  0  0  0  0  0  0  0  0  0\\n   10.3640    0.0606   -0.2823 H   0  0  0  0  0  0  0  0  0  0  0  0\\n   10.7980    1.6061   -2.1071 H   0  0  0  0  0  0  0  0  0  0  0  0\\n  1  2  2  0\\n  2  3  1  0\\n  3  4  1  0\\n  4  5  1  0\\n  5  6  2  0\\n  5  7  1  0\\n  7  8  2  0\\n  8  9  1  0\\n  9 10  2  0\\n 10 11  1  0\\n 11 12  1  0\\n 12 13  2  0\\n 13 14  1  0\\n 14 15  1  0\\n 15 16  1  0\\n 16 17  2  0\\n 16 18  1  0\\n 18 19  1  0\\n 19 20  1  0\\n 15 21  1  0\\n 21 22  1  0\\n 22 23  1  0\\n 13 24  1  0\\n 24 25  1  0\\n 25 26  2  0\\n 26 27  1  0\\n 27 28  2  0\\n 28 29  1  0\\n 28 30  1  0\\n 10 31  1  0\\n 31 32  2  0\\n  3 33  2  0\\n 33 34  1  0\\n 34 35  2  0\\n 35  1  1  0\\n 32  7  1  0\\n 30 11  2  0\\n 23 14  1  0\\n 30 24  1  0\\n  1 36  1  0\\n  4 37  1  0\\n  8 38  1  0\\n  9 39  1  0\\n 14 40  1  1\\n 18 41  1  0\\n 18 42  1  0\\n 19 43  1  0\\n 19 44  1  0\\n 20 45  1  0\\n 20 46  1  0\\n 20 47  1  0\\n 21 48  1  0\\n 21 49  1  0\\n 22 50  1  0\\n 22 51  1  0\\n 23 52  1  0\\n 23 53  1  0\\n 25 54  1  0\\n 26 55  1  0\\n 29 56  1  0\\n 29 57  1  0\\n 31 58  1  0\\n 32 59  1  0\\n 33 60  1  0\\n 34 61  1  0\\n 35 62  1  0\\nM  END\\n\",\"sdf\");\n\tviewer_1721431783161023.setStyle({\"model\": 0},{\"stick\": {\"radius\": 0.15}});\n\tviewer_1721431783161023.setBackgroundColor(\"white\");\n\tviewer_1721431783161023.zoomTo();\nviewer_1721431783161023.render();\n});\n</script>",
      "text/html": [
       "<div id=\"3dmolviewer_1721431783161023\"  style=\"position: relative; width: 400px; height: 400px;\">\n",
       "        <p id=\"3dmolwarning_1721431783161023\" style=\"background-color:#ffcccc;color:black\">3Dmol.js failed to load for some reason.  Please check your browser console for error messages.<br></p>\n",
       "        </div>\n",
       "<script>\n",
       "\n",
       "var loadScriptAsync = function(uri){\n",
       "  return new Promise((resolve, reject) => {\n",
       "    //this is to ignore the existence of requirejs amd\n",
       "    var savedexports, savedmodule;\n",
       "    if (typeof exports !== 'undefined') savedexports = exports;\n",
       "    else exports = {}\n",
       "    if (typeof module !== 'undefined') savedmodule = module;\n",
       "    else module = {}\n",
       "\n",
       "    var tag = document.createElement('script');\n",
       "    tag.src = uri;\n",
       "    tag.async = true;\n",
       "    tag.onload = () => {\n",
       "        exports = savedexports;\n",
       "        module = savedmodule;\n",
       "        resolve();\n",
       "    };\n",
       "  var firstScriptTag = document.getElementsByTagName('script')[0];\n",
       "  firstScriptTag.parentNode.insertBefore(tag, firstScriptTag);\n",
       "});\n",
       "};\n",
       "\n",
       "if(typeof $3Dmolpromise === 'undefined') {\n",
       "$3Dmolpromise = null;\n",
       "  $3Dmolpromise = loadScriptAsync('https://cdnjs.cloudflare.com/ajax/libs/3Dmol/2.2.1-post1/3Dmol-min.js');\n",
       "}\n",
       "\n",
       "var viewer_1721431783161023 = null;\n",
       "var warn = document.getElementById(\"3dmolwarning_1721431783161023\");\n",
       "if(warn) {\n",
       "    warn.parentNode.removeChild(warn);\n",
       "}\n",
       "$3Dmolpromise.then(function() {\n",
       "viewer_1721431783161023 = $3Dmol.createViewer(document.getElementById(\"3dmolviewer_1721431783161023\"),{backgroundColor:\"white\"});\n",
       "viewer_1721431783161023.zoomTo();\n",
       "\tviewer_1721431783161023.removeAllModels();\n",
       "\tviewer_1721431783161023.addModel(\"\\n     RDKit          3D\\n\\n 62 66  0  0  0  0  0  0  0  0999 V2000\\n    8.7165    2.1923   -2.2421 C   0  0  0  0  0  0  0  0  0  0  0  0\\n    7.4590    2.0419   -1.7631 N   0  0  0  0  0  0  0  0  0  0  0  0\\n    7.1877    1.1948   -0.7547 C   0  0  0  0  0  0  0  0  0  0  0  0\\n    5.8380    1.0540   -0.2634 N   0  0  0  0  0  0  0  0  0  0  0  0\\n    4.9774    0.0898   -0.8290 C   0  0  0  0  0  0  0  0  0  0  0  0\\n    5.4526   -0.6156   -1.7608 O   0  0  0  0  0  0  0  0  0  0  0  0\\n    3.6037   -0.1199   -0.3957 C   0  0  0  0  0  0  0  0  0  0  0  0\\n    3.0131    0.6024    0.6079 C   0  0  0  0  0  0  0  0  0  0  0  0\\n    1.6984    0.3672    0.9880 C   0  0  0  0  0  0  0  0  0  0  0  0\\n    0.9241   -0.5936    0.3865 C   0  0  0  0  0  0  0  0  0  0  0  0\\n   -0.4469   -0.9173    0.7558 C   0  0  0  0  0  0  0  0  0  0  0  0\\n   -1.5205   -0.9478   -0.0705 N   0  0  0  0  0  0  0  0  0  0  0  0\\n   -2.6143   -1.3048    0.6038 C   0  0  0  0  0  0  0  0  0  0  0  0\\n   -4.0093   -1.4682    0.1058 C   0  0  1  0  0  0  0  0  0  0  0  0\\n   -4.4046   -0.3905   -0.7493 N   0  0  0  0  0  0  0  0  0  0  0  0\\n   -5.0669    0.7885   -0.3661 C   0  0  0  0  0  0  0  0  0  0  0  0\\n   -5.3646    0.9565    0.8552 O   0  0  0  0  0  0  0  0  0  0  0  0\\n   -5.4405    1.8593   -1.3248 C   0  0  0  0  0  0  0  0  0  0  0  0\\n   -6.1245    2.9648   -0.5930 C   0  0  0  0  0  0  0  0  0  0  0  0\\n   -5.1961    3.5292    0.4520 C   0  0  0  0  0  0  0  0  0  0  0  0\\n   -4.0057   -0.7189   -2.0861 C   0  0  0  0  0  0  0  0  0  0  0  0\\n   -4.4286   -2.1704   -2.1898 C   0  0  0  0  0  0  0  0  0  0  0  0\\n   -4.1258   -2.6780   -0.8010 C   0  0  0  0  0  0  0  0  0  0  0  0\\n   -2.2296   -1.5038    1.8717 N   0  0  0  0  0  0  0  0  0  0  0  0\\n   -2.9468   -1.8881    2.9688 C   0  0  0  0  0  0  0  0  0  0  0  0\\n   -2.2945   -2.0295    4.1599 C   0  0  0  0  0  0  0  0  0  0  0  0\\n   -0.9773   -1.8042    4.2854 N   0  0  0  0  0  0  0  0  0  0  0  0\\n   -0.2562   -1.4255    3.2176 C   0  0  0  0  0  0  0  0  0  0  0  0\\n    1.1459   -1.2052    3.2977 N   0  0  0  0  0  0  0  0  0  0  0  0\\n   -0.8892   -1.2733    2.0032 C   0  0  0  0  0  0  0  0  0  0  0  0\\n    1.5257   -1.3310   -0.6384 C   0  0  0  0  0  0  0  0  0  0  0  0\\n    2.8353   -1.0843   -1.0053 C   0  0  0  0  0  0  0  0  0  0  0  0\\n    8.2350    0.4760   -0.2158 C   0  0  0  0  0  0  0  0  0  0  0  0\\n    9.5227    0.6165   -0.6912 C   0  0  0  0  0  0  0  0  0  0  0  0\\n    9.7904    1.4887   -1.7266 C   0  0  0  0  0  0  0  0  0  0  0  0\\n    8.8730    2.8929   -3.0593 H   0  0  0  0  0  0  0  0  0  0  0  0\\n    5.4976    1.6708    0.5160 H   0  0  0  0  0  0  0  0  0  0  0  0\\n    3.5797    1.3662    1.1103 H   0  0  0  0  0  0  0  0  0  0  0  0\\n    1.2521    0.9807    1.7747 H   0  0  0  0  0  0  0  0  0  0  0  0\\n   -4.6601   -1.6252    0.9656 H   0  0  0  0  0  0  0  0  0  0  0  0\\n   -6.1411    1.3777   -2.0597 H   0  0  0  0  0  0  0  0  0  0  0  0\\n   -4.5260    2.1681   -1.8404 H   0  0  0  0  0  0  0  0  0  0  0  0\\n   -6.4506    3.7465   -1.3145 H   0  0  0  0  0  0  0  0  0  0  0  0\\n   -7.0354    2.6270   -0.0725 H   0  0  0  0  0  0  0  0  0  0  0  0\\n   -5.2538    4.6520    0.3679 H   0  0  0  0  0  0  0  0  0  0  0  0\\n   -4.1567    3.2704    0.1630 H   0  0  0  0  0  0  0  0  0  0  0  0\\n   -5.4564    3.2071    1.4790 H   0  0  0  0  0  0  0  0  0  0  0  0\\n   -4.5174   -0.0920   -2.8542 H   0  0  0  0  0  0  0  0  0  0  0  0\\n   -2.9181   -0.5929   -2.2609 H   0  0  0  0  0  0  0  0  0  0  0  0\\n   -3.9109   -2.7093   -2.9844 H   0  0  0  0  0  0  0  0  0  0  0  0\\n   -5.5458   -2.1433   -2.3526 H   0  0  0  0  0  0  0  0  0  0  0  0\\n   -3.1646   -3.2400   -0.8086 H   0  0  0  0  0  0  0  0  0  0  0  0\\n   -4.9653   -3.3350   -0.4915 H   0  0  0  0  0  0  0  0  0  0  0  0\\n   -4.0099   -2.0645    2.8416 H   0  0  0  0  0  0  0  0  0  0  0  0\\n   -2.8485   -2.3315    5.0324 H   0  0  0  0  0  0  0  0  0  0  0  0\\n    1.8283   -1.8544    2.8475 H   0  0  0  0  0  0  0  0  0  0  0  0\\n    1.5543   -0.3880    3.8081 H   0  0  0  0  0  0  0  0  0  0  0  0\\n    0.9192   -2.0889   -1.1162 H   0  0  0  0  0  0  0  0  0  0  0  0\\n    3.2380   -1.7032   -1.8173 H   0  0  0  0  0  0  0  0  0  0  0  0\\n    8.0728   -0.2102    0.5868 H   0  0  0  0  0  0  0  0  0  0  0  0\\n   10.3640    0.0606   -0.2823 H   0  0  0  0  0  0  0  0  0  0  0  0\\n   10.7980    1.6061   -2.1071 H   0  0  0  0  0  0  0  0  0  0  0  0\\n  1  2  2  0\\n  2  3  1  0\\n  3  4  1  0\\n  4  5  1  0\\n  5  6  2  0\\n  5  7  1  0\\n  7  8  2  0\\n  8  9  1  0\\n  9 10  2  0\\n 10 11  1  0\\n 11 12  1  0\\n 12 13  2  0\\n 13 14  1  0\\n 14 15  1  0\\n 15 16  1  0\\n 16 17  2  0\\n 16 18  1  0\\n 18 19  1  0\\n 19 20  1  0\\n 15 21  1  0\\n 21 22  1  0\\n 22 23  1  0\\n 13 24  1  0\\n 24 25  1  0\\n 25 26  2  0\\n 26 27  1  0\\n 27 28  2  0\\n 28 29  1  0\\n 28 30  1  0\\n 10 31  1  0\\n 31 32  2  0\\n  3 33  2  0\\n 33 34  1  0\\n 34 35  2  0\\n 35  1  1  0\\n 32  7  1  0\\n 30 11  2  0\\n 23 14  1  0\\n 30 24  1  0\\n  1 36  1  0\\n  4 37  1  0\\n  8 38  1  0\\n  9 39  1  0\\n 14 40  1  1\\n 18 41  1  0\\n 18 42  1  0\\n 19 43  1  0\\n 19 44  1  0\\n 20 45  1  0\\n 20 46  1  0\\n 20 47  1  0\\n 21 48  1  0\\n 21 49  1  0\\n 22 50  1  0\\n 22 51  1  0\\n 23 52  1  0\\n 23 53  1  0\\n 25 54  1  0\\n 26 55  1  0\\n 29 56  1  0\\n 29 57  1  0\\n 31 58  1  0\\n 32 59  1  0\\n 33 60  1  0\\n 34 61  1  0\\n 35 62  1  0\\nM  END\\n\",\"sdf\");\n",
       "\tviewer_1721431783161023.setStyle({\"model\": 0},{\"stick\": {\"radius\": 0.15}});\n",
       "\tviewer_1721431783161023.setBackgroundColor(\"white\");\n",
       "\tviewer_1721431783161023.zoomTo();\n",
       "viewer_1721431783161023.render();\n",
       "});\n",
       "</script>"
      ]
     },
     "metadata": {},
     "output_type": "display_data"
    }
   ],
   "source": [
    "draw([ligand_drawn], confIds=[3])"
   ]
  },
  {
   "cell_type": "code",
   "execution_count": 50,
   "metadata": {},
   "outputs": [],
   "source": [
    "def align(prbMol, refMol, prbCrippen=None, refCrippen=None, i=-1, j=-1):\n",
    "    if prbCrippen is None:\n",
    "        prbCrippen = rdMolDescriptors._CalcCrippenContribs(prbMol)\n",
    "    if refCrippen is None:\n",
    "        refCrippen = rdMolDescriptors._CalcCrippenContribs(refMol)\n",
    "    alignment = rdMolAlign.GetCrippenO3A(prbMol, refMol, prbCrippen, refCrippen, i, j)\n",
    "    alignment.Align()"
   ]
  },
  {
   "cell_type": "code",
   "execution_count": 101,
   "metadata": {},
   "outputs": [
    {
     "name": "stderr",
     "output_type": "stream",
     "text": [
      "/Users/santosh/Documents/coding/generative_chemistry/.venv/lib/python3.12/site-packages/espsim/helpers.py:18: UserWarning: Input molecule missing hydrogens. Use Chem.AddHs() to make hydrogens explicit.\n",
      "  warnings.warn('Input molecule missing hydrogens. Use Chem.AddHs() to make hydrogens explicit.')\n"
     ]
    }
   ],
   "source": [
    "all_sims = {'conformer':[], 'shape': [], 'esp': []}\n",
    "for i in range(ligand_drawn.GetNumConformers()):\n",
    "    # print(i)\n",
    "    prbMol=deepcopy(ligand)\n",
    "    # ref_copy = Chem.Mol(ligand_drawn, confId=i)\n",
    "    # refMol=deepcopy(ref_copy)\n",
    "    # align(prbMol, refMol)\n",
    "    rdMolAlign.GetBestRMS(prbMol,ligand_drawn,prbId=0,refId=i)\n",
    "    shape_sim = GetShapeSim(prbMol, ligand_drawn, prbCid=0, refCid=i)\n",
    "    esp_sim = GetEspSim(prbMol, ligand_drawn, prbCid=0, refCid=i)\n",
    "    all_sims['conformer'].append(i)\n",
    "    all_sims['shape'].append(shape_sim)\n",
    "    all_sims['esp'].append(esp_sim)\n",
    "    \n",
    "    \n"
   ]
  },
  {
   "cell_type": "code",
   "execution_count": 59,
   "metadata": {},
   "outputs": [
    {
     "data": {
      "text/plain": [
       "<rdkit.Chem.rdchem.Conformer at 0x1717202e0>"
      ]
     },
     "execution_count": 59,
     "metadata": {},
     "output_type": "execute_result"
    }
   ],
   "source": [
    "ligand_drawn.GetConformer(4)"
   ]
  },
  {
   "cell_type": "code",
   "execution_count": 65,
   "metadata": {},
   "outputs": [
    {
     "data": {
      "text/plain": [
       "<rdkit.Chem.rdchem.Conformer at 0x1717c0e40>"
      ]
     },
     "execution_count": 65,
     "metadata": {},
     "output_type": "execute_result"
    }
   ],
   "source": [
    "ligand_drawn.GetConformer(1)"
   ]
  },
  {
   "cell_type": "code",
   "execution_count": 69,
   "metadata": {},
   "outputs": [],
   "source": [
    "import pandas as pd"
   ]
  },
  {
   "cell_type": "code",
   "execution_count": 102,
   "metadata": {},
   "outputs": [],
   "source": [
    "df = pd.DataFrame.from_dict(all_sims)"
   ]
  },
  {
   "cell_type": "code",
   "execution_count": 103,
   "metadata": {},
   "outputs": [
    {
     "data": {
      "text/html": [
       "<div>\n",
       "<style scoped>\n",
       "    .dataframe tbody tr th:only-of-type {\n",
       "        vertical-align: middle;\n",
       "    }\n",
       "\n",
       "    .dataframe tbody tr th {\n",
       "        vertical-align: top;\n",
       "    }\n",
       "\n",
       "    .dataframe thead th {\n",
       "        text-align: right;\n",
       "    }\n",
       "</style>\n",
       "<table border=\"1\" class=\"dataframe\">\n",
       "  <thead>\n",
       "    <tr style=\"text-align: right;\">\n",
       "      <th></th>\n",
       "      <th>conformer</th>\n",
       "      <th>shape</th>\n",
       "      <th>esp</th>\n",
       "    </tr>\n",
       "  </thead>\n",
       "  <tbody>\n",
       "    <tr>\n",
       "      <th>611</th>\n",
       "      <td>611</td>\n",
       "      <td>0.699613</td>\n",
       "      <td>0.306189</td>\n",
       "    </tr>\n",
       "    <tr>\n",
       "      <th>734</th>\n",
       "      <td>734</td>\n",
       "      <td>0.684593</td>\n",
       "      <td>0.293583</td>\n",
       "    </tr>\n",
       "    <tr>\n",
       "      <th>936</th>\n",
       "      <td>936</td>\n",
       "      <td>0.679255</td>\n",
       "      <td>0.278913</td>\n",
       "    </tr>\n",
       "    <tr>\n",
       "      <th>111</th>\n",
       "      <td>111</td>\n",
       "      <td>0.672862</td>\n",
       "      <td>0.513456</td>\n",
       "    </tr>\n",
       "    <tr>\n",
       "      <th>992</th>\n",
       "      <td>992</td>\n",
       "      <td>0.669265</td>\n",
       "      <td>0.505264</td>\n",
       "    </tr>\n",
       "    <tr>\n",
       "      <th>...</th>\n",
       "      <td>...</td>\n",
       "      <td>...</td>\n",
       "      <td>...</td>\n",
       "    </tr>\n",
       "    <tr>\n",
       "      <th>560</th>\n",
       "      <td>560</td>\n",
       "      <td>0.290623</td>\n",
       "      <td>0.317229</td>\n",
       "    </tr>\n",
       "    <tr>\n",
       "      <th>982</th>\n",
       "      <td>982</td>\n",
       "      <td>0.289915</td>\n",
       "      <td>0.334722</td>\n",
       "    </tr>\n",
       "    <tr>\n",
       "      <th>753</th>\n",
       "      <td>753</td>\n",
       "      <td>0.288887</td>\n",
       "      <td>0.305373</td>\n",
       "    </tr>\n",
       "    <tr>\n",
       "      <th>515</th>\n",
       "      <td>515</td>\n",
       "      <td>0.283983</td>\n",
       "      <td>0.310248</td>\n",
       "    </tr>\n",
       "    <tr>\n",
       "      <th>482</th>\n",
       "      <td>482</td>\n",
       "      <td>0.280132</td>\n",
       "      <td>0.315192</td>\n",
       "    </tr>\n",
       "  </tbody>\n",
       "</table>\n",
       "<p>1000 rows × 3 columns</p>\n",
       "</div>"
      ],
      "text/plain": [
       "     conformer     shape       esp\n",
       "611        611  0.699613  0.306189\n",
       "734        734  0.684593  0.293583\n",
       "936        936  0.679255  0.278913\n",
       "111        111  0.672862  0.513456\n",
       "992        992  0.669265  0.505264\n",
       "..         ...       ...       ...\n",
       "560        560  0.290623  0.317229\n",
       "982        982  0.289915  0.334722\n",
       "753        753  0.288887  0.305373\n",
       "515        515  0.283983  0.310248\n",
       "482        482  0.280132  0.315192\n",
       "\n",
       "[1000 rows x 3 columns]"
      ]
     },
     "execution_count": 103,
     "metadata": {},
     "output_type": "execute_result"
    }
   ],
   "source": [
    "df.sort_values('shape', ascending=False)"
   ]
  },
  {
   "cell_type": "code",
   "execution_count": 93,
   "metadata": {},
   "outputs": [
    {
     "ename": "ArgumentError",
     "evalue": "Python argument types in\n    Mol.__init__(Mol, Mol, Conformer)\ndid not match C++ signature:\n    __init__(_object* self, RDKit::ROMol mol, bool quickCopy=False, int confId=-1)\n    __init__(_object* self, std::__1::basic_string<char, std::__1::char_traits<char>, std::__1::allocator<char>> pklString, unsigned int propertyFlags)\n    __init__(_object* self, std::__1::basic_string<char, std::__1::char_traits<char>, std::__1::allocator<char>> pklString)\n    __init__(_object* self)",
     "output_type": "error",
     "traceback": [
      "\u001b[0;31m---------------------------------------------------------------------------\u001b[0m",
      "\u001b[0;31mArgumentError\u001b[0m                             Traceback (most recent call last)",
      "Cell \u001b[0;32mIn[93], line 1\u001b[0m\n\u001b[0;32m----> 1\u001b[0m draw([\u001b[43mChem\u001b[49m\u001b[38;5;241;43m.\u001b[39;49m\u001b[43mMol\u001b[49m\u001b[43m(\u001b[49m\u001b[43mligand_drawn\u001b[49m\u001b[43m,\u001b[49m\u001b[43m  \u001b[49m\u001b[43mligand_drawn\u001b[49m\u001b[38;5;241;43m.\u001b[39;49m\u001b[43mGetConformer\u001b[49m\u001b[43m(\u001b[49m\u001b[38;5;241;43m1\u001b[39;49m\u001b[43m)\u001b[49m\u001b[43m)\u001b[49m])\n",
      "\u001b[0;31mArgumentError\u001b[0m: Python argument types in\n    Mol.__init__(Mol, Mol, Conformer)\ndid not match C++ signature:\n    __init__(_object* self, RDKit::ROMol mol, bool quickCopy=False, int confId=-1)\n    __init__(_object* self, std::__1::basic_string<char, std::__1::char_traits<char>, std::__1::allocator<char>> pklString, unsigned int propertyFlags)\n    __init__(_object* self, std::__1::basic_string<char, std::__1::char_traits<char>, std::__1::allocator<char>> pklString)\n    __init__(_object* self)"
     ]
    }
   ],
   "source": [
    "draw([Chem.Mol(ligand_drawn,  ligand_drawn.GetConformer(1))])"
   ]
  },
  {
   "cell_type": "code",
   "execution_count": 107,
   "metadata": {},
   "outputs": [
    {
     "data": {
      "text/plain": [
       "0.6996126060098419"
      ]
     },
     "execution_count": 107,
     "metadata": {},
     "output_type": "execute_result"
    }
   ],
   "source": [
    "rdMolAlign.GetBestRMS(ligand,ligand_drawn,prbId=0,refId=611)\n",
    "GetShapeSim(ligand, ligand_drawn, prbCid=0, refCid=611)"
   ]
  },
  {
   "cell_type": "code",
   "execution_count": 133,
   "metadata": {},
   "outputs": [
    {
     "data": {
      "text/plain": [
       "([0.9319752203955206], [0.9418561127410942])"
      ]
     },
     "execution_count": 133,
     "metadata": {},
     "output_type": "execute_result"
    }
   ],
   "source": [
    "EmbedAlignScore(Chem.AddHs(ligand), Chem.AddHs(Chem.Mol(ligand_drawn, 0)), renormalize=True, prbNumConfs=20, refNumConfs=20)"
   ]
  },
  {
   "cell_type": "code",
   "execution_count": 136,
   "metadata": {},
   "outputs": [],
   "source": [
    "nolutinib = Chem.MolFromSmiles('CC#CC(=O)N1CCC[C@H]1c1cc(-c2ccc(cc2)C(=O)Nc2ccccn2)c2c(C)nc(C)c(C)n12')"
   ]
  },
  {
   "cell_type": "code",
   "execution_count": 137,
   "metadata": {},
   "outputs": [
    {
     "data": {
      "text/plain": [
       "([0.7483984294275676], [0.9423019438482562])"
      ]
     },
     "execution_count": 137,
     "metadata": {},
     "output_type": "execute_result"
    }
   ],
   "source": [
    "EmbedAlignScore(Chem.AddHs(ligand), Chem.AddHs(nolutinib), renormalize=True, prbNumConfs=20, refNumConfs=20)"
   ]
  },
  {
   "cell_type": "code",
   "execution_count": 117,
   "metadata": {},
   "outputs": [
    {
     "data": {
      "image/png": "[encoded data removed]",
      "text/plain": [
       "<rdkit.Chem.rdchem.Mol at 0x3346a8510>"
      ]
     },
     "execution_count": 117,
     "metadata": {},
     "output_type": "execute_result"
    }
   ],
   "source": [
    "ligand"
   ]
  },
  {
   "cell_type": "code",
   "execution_count": null,
   "metadata": {},
   "outputs": [],
   "source": []
  }
 ],
 "metadata": {
  "kernelspec": {
   "display_name": ".venv",
   "language": "python",
   "name": "python3"
  },
  "language_info": {
   "codemirror_mode": {
    "name": "ipython",
    "version": 3
   },
   "file_extension": ".py",
   "mimetype": "text/x-python",
   "name": "python",
   "nbconvert_exporter": "python",
   "pygments_lexer": "ipython3",
   "version": "3.12.0"
  }
 },
 "nbformat": 4,
 "nbformat_minor": 2
}
